{
  "nbformat": 4,
  "nbformat_minor": 0,
  "metadata": {
    "colab": {
      "provenance": [],
      "gpuType": "T4"
    },
    "kernelspec": {
      "name": "python3",
      "display_name": "Python 3"
    },
    "language_info": {
      "name": "python"
    },
    "accelerator": "GPU",
    "gpuClass": "standard"
  },
  "cells": [
    {
      "cell_type": "code",
      "execution_count": 108,
      "metadata": {
        "colab": {
          "base_uri": "https://localhost:8080/"
        },
        "id": "U-sm6I76O2zO",
        "outputId": "c060d690-8067-49e9-8ba4-b82e92ca7bcd"
      },
      "outputs": [
        {
          "output_type": "stream",
          "name": "stdout",
          "text": [
            "good night then!\n"
          ]
        }
      ],
      "source": [
        "print(\"good night then!\")"
      ]
    },
    {
      "cell_type": "code",
      "source": [
        "import torch\n",
        "import pandas as pd \n",
        "import numpy as np\n",
        "import matplotlib.pyplot as plt\n",
        "print(torch.__version__)"
      ],
      "metadata": {
        "colab": {
          "base_uri": "https://localhost:8080/"
        },
        "id": "HzXxFdqWPU4Z",
        "outputId": "59964e98-e223-4ba5-be01-f614aaf08bda"
      },
      "execution_count": 109,
      "outputs": [
        {
          "output_type": "stream",
          "name": "stdout",
          "text": [
            "2.0.0+cu118\n"
          ]
        }
      ]
    },
    {
      "cell_type": "code",
      "source": [
        "# Creating Tensor\n",
        "matrix = torch.tensor([[1, 3],[5,9]])"
      ],
      "metadata": {
        "id": "ZRdLGzWDPtMY"
      },
      "execution_count": 110,
      "outputs": []
    },
    {
      "cell_type": "code",
      "source": [
        "matrix"
      ],
      "metadata": {
        "colab": {
          "base_uri": "https://localhost:8080/"
        },
        "id": "F5DmzIPiUjV_",
        "outputId": "660c61e4-7b76-45fd-91e8-24a61db260ca"
      },
      "execution_count": 111,
      "outputs": [
        {
          "output_type": "execute_result",
          "data": {
            "text/plain": [
              "tensor([[1, 3],\n",
              "        [5, 9]])"
            ]
          },
          "metadata": {},
          "execution_count": 111
        }
      ]
    },
    {
      "cell_type": "code",
      "source": [
        "matrix.ndim\n"
      ],
      "metadata": {
        "colab": {
          "base_uri": "https://localhost:8080/"
        },
        "id": "ZUptUJA2UryV",
        "outputId": "80fe026e-ceb2-4434-eebf-e465b247e637"
      },
      "execution_count": 112,
      "outputs": [
        {
          "output_type": "execute_result",
          "data": {
            "text/plain": [
              "2"
            ]
          },
          "metadata": {},
          "execution_count": 112
        }
      ]
    },
    {
      "cell_type": "code",
      "source": [
        "matrix[0]"
      ],
      "metadata": {
        "colab": {
          "base_uri": "https://localhost:8080/"
        },
        "id": "zTzhwHNmU1t8",
        "outputId": "27455450-0944-46ac-8352-d7663716c7d7"
      },
      "execution_count": 113,
      "outputs": [
        {
          "output_type": "execute_result",
          "data": {
            "text/plain": [
              "tensor([1, 3])"
            ]
          },
          "metadata": {},
          "execution_count": 113
        }
      ]
    },
    {
      "cell_type": "markdown",
      "source": [
        "Why Random Tensor?\n"
      ],
      "metadata": {
        "id": "4GVKTFBsWh2D"
      }
    },
    {
      "cell_type": "code",
      "source": [
        "random_tensor = torch.rand(3,4)\n",
        "random_tensor"
      ],
      "metadata": {
        "colab": {
          "base_uri": "https://localhost:8080/"
        },
        "id": "jloP6DdWWkyT",
        "outputId": "23cd0c79-7211-4640-b404-508f5131fe03"
      },
      "execution_count": 114,
      "outputs": [
        {
          "output_type": "execute_result",
          "data": {
            "text/plain": [
              "tensor([[0.4216, 0.2373, 0.8111, 0.5340],\n",
              "        [0.6834, 0.6528, 0.6123, 0.9834],\n",
              "        [0.1826, 0.1239, 0.4262, 0.9717]])"
            ]
          },
          "metadata": {},
          "execution_count": 114
        }
      ]
    },
    {
      "cell_type": "code",
      "source": [
        "random_tensor.ndim\n"
      ],
      "metadata": {
        "colab": {
          "base_uri": "https://localhost:8080/"
        },
        "id": "uk7-1BV5Xhy9",
        "outputId": "91d36b54-1a34-41fc-9114-a39f36eb74f6"
      },
      "execution_count": 115,
      "outputs": [
        {
          "output_type": "execute_result",
          "data": {
            "text/plain": [
              "2"
            ]
          },
          "metadata": {},
          "execution_count": 115
        }
      ]
    },
    {
      "cell_type": "code",
      "source": [
        "random_tensor_big = torch.rand(2,3,10)\n",
        "random_tensor_big"
      ],
      "metadata": {
        "colab": {
          "base_uri": "https://localhost:8080/"
        },
        "id": "ppkXnpkzXlOz",
        "outputId": "0ec041c8-daeb-4d46-947d-173a53bba379"
      },
      "execution_count": 116,
      "outputs": [
        {
          "output_type": "execute_result",
          "data": {
            "text/plain": [
              "tensor([[[0.6248, 0.7822, 0.4098, 0.3471, 0.2834, 0.7521, 0.3628, 0.6243,\n",
              "          0.8568, 0.7912],\n",
              "         [0.3054, 0.0376, 0.7759, 0.3159, 0.1600, 0.5838, 0.4831, 0.1120,\n",
              "          0.7900, 0.1813],\n",
              "         [0.1004, 0.1655, 0.5094, 0.5793, 0.1461, 0.6626, 0.3235, 0.3402,\n",
              "          0.6316, 0.6537]],\n",
              "\n",
              "        [[0.0824, 0.8960, 0.3263, 0.5305, 0.5734, 0.8332, 0.8311, 0.7465,\n",
              "          0.3048, 0.2419],\n",
              "         [0.8571, 0.3458, 0.1389, 0.7685, 0.2283, 0.4827, 0.0078, 0.7575,\n",
              "          0.1809, 0.6816],\n",
              "         [0.7028, 0.9233, 0.4993, 0.6032, 0.2218, 0.3929, 0.0191, 0.6008,\n",
              "          0.3789, 0.7930]]])"
            ]
          },
          "metadata": {},
          "execution_count": 116
        }
      ]
    },
    {
      "cell_type": "code",
      "source": [
        "random_image_size_tensor = torch.rand(size= (3, 224, 224))\n",
        "random_image_size_tensor.shape, random_image_size_tensor.ndim"
      ],
      "metadata": {
        "colab": {
          "base_uri": "https://localhost:8080/"
        },
        "id": "HIGXwg7dXxWD",
        "outputId": "b653f14a-bbaf-4221-cc6a-278e6a8ee5fc"
      },
      "execution_count": 117,
      "outputs": [
        {
          "output_type": "execute_result",
          "data": {
            "text/plain": [
              "(torch.Size([3, 224, 224]), 3)"
            ]
          },
          "metadata": {},
          "execution_count": 117
        }
      ]
    },
    {
      "cell_type": "code",
      "source": [
        "torch.arange(0, 10)"
      ],
      "metadata": {
        "id": "iTy1zrS_YYaa",
        "colab": {
          "base_uri": "https://localhost:8080/"
        },
        "outputId": "f757474d-efe5-4ded-9dad-177f6a9d60ee"
      },
      "execution_count": 118,
      "outputs": [
        {
          "output_type": "execute_result",
          "data": {
            "text/plain": [
              "tensor([0, 1, 2, 3, 4, 5, 6, 7, 8, 9])"
            ]
          },
          "metadata": {},
          "execution_count": 118
        }
      ]
    },
    {
      "cell_type": "code",
      "source": [
        "one_to_hundred= torch.arange(start=1, end=100, step=10)\n",
        "one_to_hundred"
      ],
      "metadata": {
        "colab": {
          "base_uri": "https://localhost:8080/"
        },
        "id": "kSeYZnrfch2f",
        "outputId": "80f2e7c6-42f6-4b3d-a477-9709ad446331"
      },
      "execution_count": 119,
      "outputs": [
        {
          "output_type": "execute_result",
          "data": {
            "text/plain": [
              "tensor([ 1, 11, 21, 31, 41, 51, 61, 71, 81, 91])"
            ]
          },
          "metadata": {},
          "execution_count": 119
        }
      ]
    },
    {
      "cell_type": "code",
      "source": [
        "ten_zeroes = torch.zeros_like(input=one_to_hundred)\n",
        "ten_zeroes"
      ],
      "metadata": {
        "colab": {
          "base_uri": "https://localhost:8080/"
        },
        "id": "nSjAxzA2c-WG",
        "outputId": "44bc8e73-87bf-4043-8d1b-505b48e5795e"
      },
      "execution_count": 120,
      "outputs": [
        {
          "output_type": "execute_result",
          "data": {
            "text/plain": [
              "tensor([0, 0, 0, 0, 0, 0, 0, 0, 0, 0])"
            ]
          },
          "metadata": {},
          "execution_count": 120
        }
      ]
    },
    {
      "cell_type": "code",
      "source": [
        "float_32_tensor = torch.tensor([1,2,3], dtype = torch.float16)\n",
        "float_32_tensor"
      ],
      "metadata": {
        "id": "WDcWvQ3HeG1l",
        "colab": {
          "base_uri": "https://localhost:8080/"
        },
        "outputId": "72d2d219-e8f0-4647-d74e-7265fd466848"
      },
      "execution_count": 121,
      "outputs": [
        {
          "output_type": "execute_result",
          "data": {
            "text/plain": [
              "tensor([1., 2., 3.], dtype=torch.float16)"
            ]
          },
          "metadata": {},
          "execution_count": 121
        }
      ]
    },
    {
      "cell_type": "code",
      "source": [
        "float_32_tensor = torch.rand(3,6)\n",
        "print(f\"Datatype of tensor: {float_32_tensor.dtype}\")\n",
        "print(f\"Shape of tensor: {float_32_tensor.shape}\")\n",
        "print(f\"Device of tensor: {float_32_tensor.device}\")\n"
      ],
      "metadata": {
        "colab": {
          "base_uri": "https://localhost:8080/"
        },
        "id": "MAIG0-1a4zQb",
        "outputId": "4603e247-bf5e-48b3-87b3-74a9555682a7"
      },
      "execution_count": 122,
      "outputs": [
        {
          "output_type": "stream",
          "name": "stdout",
          "text": [
            "Datatype of tensor: torch.float32\n",
            "Shape of tensor: torch.Size([3, 6])\n",
            "Device of tensor: cpu\n"
          ]
        }
      ]
    },
    {
      "cell_type": "code",
      "source": [],
      "metadata": {
        "id": "ZN06aMSh73En"
      },
      "execution_count": 122,
      "outputs": []
    },
    {
      "cell_type": "markdown",
      "source": [
        "# Manipulating Tensors\n",
        "\n",
        " \n",
        "\n",
        "*   Addition\n",
        "*   Substraction\n",
        "*   Multiplication\n",
        "*   Division\n",
        "*   Matrix Multiplication\n",
        "\n",
        "\n",
        "\n",
        "\n",
        "\n",
        "\n"
      ],
      "metadata": {
        "id": "GUUERcym9GJB"
      }
    },
    {
      "cell_type": "code",
      "source": [
        "# Create a Tensor\n",
        "tensor = torch.tensor([2, 4, 1])\n",
        "tensor + 1"
      ],
      "metadata": {
        "colab": {
          "base_uri": "https://localhost:8080/"
        },
        "id": "uK-zEG5M9dcW",
        "outputId": "e6fb02c9-3c1f-4db1-b693-5ad6b6d1bd2d"
      },
      "execution_count": 123,
      "outputs": [
        {
          "output_type": "execute_result",
          "data": {
            "text/plain": [
              "tensor([3, 5, 2])"
            ]
          },
          "metadata": {},
          "execution_count": 123
        }
      ]
    },
    {
      "cell_type": "code",
      "source": [
        "# Multiply by ten\n",
        "tensor * 2"
      ],
      "metadata": {
        "colab": {
          "base_uri": "https://localhost:8080/"
        },
        "id": "LH70gmoO9tJt",
        "outputId": "2c18f8a4-de61-4a92-faa3-334913c675e0"
      },
      "execution_count": 124,
      "outputs": [
        {
          "output_type": "execute_result",
          "data": {
            "text/plain": [
              "tensor([4, 8, 2])"
            ]
          },
          "metadata": {},
          "execution_count": 124
        }
      ]
    },
    {
      "cell_type": "code",
      "source": [
        " # Another option to multiply\n",
        " torch.mul(tensor, 2)"
      ],
      "metadata": {
        "colab": {
          "base_uri": "https://localhost:8080/"
        },
        "id": "ZdqGd10_92Nk",
        "outputId": "d609be53-7070-4254-b4b7-9f20129195a9"
      },
      "execution_count": 125,
      "outputs": [
        {
          "output_type": "execute_result",
          "data": {
            "text/plain": [
              "tensor([4, 8, 2])"
            ]
          },
          "metadata": {},
          "execution_count": 125
        }
      ]
    },
    {
      "cell_type": "markdown",
      "source": [
        "# Matrix Multiplication\n",
        "1. Element-wise multiplication\n",
        "2. Matrix Multiplication (dot product)"
      ],
      "metadata": {
        "id": "dFstJAW_-6_K"
      }
    },
    {
      "cell_type": "code",
      "source": [
        " # Element  wise application\n",
        " print( tensor , \"*\", tensor)\n",
        " print(f\"Equals: {tensor*tensor}\")"
      ],
      "metadata": {
        "colab": {
          "base_uri": "https://localhost:8080/"
        },
        "id": "OvXMg9jC_CJ8",
        "outputId": "232b1dab-ffb5-4913-d1f8-ff0c54b0e09d"
      },
      "execution_count": 126,
      "outputs": [
        {
          "output_type": "stream",
          "name": "stdout",
          "text": [
            "tensor([2, 4, 1]) * tensor([2, 4, 1])\n",
            "Equals: tensor([ 4, 16,  1])\n"
          ]
        }
      ]
    },
    {
      "cell_type": "code",
      "source": [
        "# Matrix Multiplicaion\n",
        "torch.matmul(tensor, tensor)"
      ],
      "metadata": {
        "colab": {
          "base_uri": "https://localhost:8080/"
        },
        "id": "JVWcqNCj_95E",
        "outputId": "8bc38977-9265-4807-8482-3fcdcd09d5d5"
      },
      "execution_count": 127,
      "outputs": [
        {
          "output_type": "execute_result",
          "data": {
            "text/plain": [
              "tensor(21)"
            ]
          },
          "metadata": {},
          "execution_count": 127
        }
      ]
    },
    {
      "cell_type": "code",
      "source": [
        "# doing traditional sytle instead matmul()\n",
        "\n",
        "value = 0 \n",
        "for i in range(len(tensor)):\n",
        "  value += tensor[i]* tensor[i]\n",
        "print (value)"
      ],
      "metadata": {
        "colab": {
          "base_uri": "https://localhost:8080/"
        },
        "id": "ZlKd1rwwAZ47",
        "outputId": "11786dbf-11b3-4a0b-a62b-eb1471c9463e"
      },
      "execution_count": 128,
      "outputs": [
        {
          "output_type": "stream",
          "name": "stdout",
          "text": [
            "tensor(21)\n"
          ]
        }
      ]
    },
    {
      "cell_type": "code",
      "source": [],
      "metadata": {
        "id": "SWBRzo9uCYDi"
      },
      "execution_count": 128,
      "outputs": []
    },
    {
      "cell_type": "markdown",
      "source": [
        "# Finding min, max ,mean, sum, etc (tensor Aggregation)"
      ],
      "metadata": {
        "id": "p5hI6zYELZXH"
      }
    },
    {
      "cell_type": "code",
      "source": [
        "# Create a tensor\n",
        "x = torch.arange(0, 100,10)\n",
        "x"
      ],
      "metadata": {
        "colab": {
          "base_uri": "https://localhost:8080/"
        },
        "id": "XYhSNw-VLg5-",
        "outputId": "3e21e310-1d1c-43a0-9d20-30d67d39149c"
      },
      "execution_count": 129,
      "outputs": [
        {
          "output_type": "execute_result",
          "data": {
            "text/plain": [
              "tensor([ 0, 10, 20, 30, 40, 50, 60, 70, 80, 90])"
            ]
          },
          "metadata": {},
          "execution_count": 129
        }
      ]
    },
    {
      "cell_type": "code",
      "source": [
        "torch.max(x), torch.min(x)"
      ],
      "metadata": {
        "colab": {
          "base_uri": "https://localhost:8080/"
        },
        "id": "uIJIfSe8L5_d",
        "outputId": "71eb4940-108a-4f3d-ae2c-e7b34599bcad"
      },
      "execution_count": 130,
      "outputs": [
        {
          "output_type": "execute_result",
          "data": {
            "text/plain": [
              "(tensor(90), tensor(0))"
            ]
          },
          "metadata": {},
          "execution_count": 130
        }
      ]
    },
    {
      "cell_type": "code",
      "source": [
        "# torch mean function requires float32 datatype\n",
        "torch.mean(x.type(torch.float32)), x.type(torch.float32).mean()"
      ],
      "metadata": {
        "colab": {
          "base_uri": "https://localhost:8080/"
        },
        "id": "oKWzloitMAPU",
        "outputId": "0d759ee0-4d24-4763-fe3c-26183c7c56fc"
      },
      "execution_count": 131,
      "outputs": [
        {
          "output_type": "execute_result",
          "data": {
            "text/plain": [
              "(tensor(45.), tensor(45.))"
            ]
          },
          "metadata": {},
          "execution_count": 131
        }
      ]
    },
    {
      "cell_type": "code",
      "source": [
        "# finding positional min, max, mean\n",
        "x.argmin()\n",
        "x.argmax()\n"
      ],
      "metadata": {
        "colab": {
          "base_uri": "https://localhost:8080/"
        },
        "id": "vFqEMfLoMCAM",
        "outputId": "d659ec22-554e-4dac-d716-3d1bee450e47"
      },
      "execution_count": 132,
      "outputs": [
        {
          "output_type": "execute_result",
          "data": {
            "text/plain": [
              "tensor(9)"
            ]
          },
          "metadata": {},
          "execution_count": 132
        }
      ]
    },
    {
      "cell_type": "code",
      "source": [
        "x[9]"
      ],
      "metadata": {
        "colab": {
          "base_uri": "https://localhost:8080/"
        },
        "id": "7uV2ZqQZNMAc",
        "outputId": "cd59b3f0-d510-4e49-e57f-56c78d48308f"
      },
      "execution_count": 133,
      "outputs": [
        {
          "output_type": "execute_result",
          "data": {
            "text/plain": [
              "tensor(90)"
            ]
          },
          "metadata": {},
          "execution_count": 133
        }
      ]
    },
    {
      "cell_type": "code",
      "source": [
        "x[x.argmax()]"
      ],
      "metadata": {
        "colab": {
          "base_uri": "https://localhost:8080/"
        },
        "id": "FX_SiMtdN2IM",
        "outputId": "a78383c4-de1b-4b27-da1c-421d393542c8"
      },
      "execution_count": 134,
      "outputs": [
        {
          "output_type": "execute_result",
          "data": {
            "text/plain": [
              "tensor(90)"
            ]
          },
          "metadata": {},
          "execution_count": 134
        }
      ]
    },
    {
      "cell_type": "code",
      "source": [],
      "metadata": {
        "id": "FqeAa8olN7CT"
      },
      "execution_count": 134,
      "outputs": []
    },
    {
      "cell_type": "markdown",
      "source": [
        "# Reshaping, stacking, squeezing and unsqueezing tensors\n",
        "\n",
        "\n",
        "*   Reshaping - reshapes an input tenrsor to a defined shape\n",
        "*   View - Return a view of an input tensor of certain shape but keep the same memory as the original tensor.\n",
        "*   Stacking - combine multiple tensors on top of each other (vstack) or side by side (hstack)\n",
        "*   Squeeze - removes all \"1\" dimension from a tensor \n",
        "*   Unsqueeze - add a \"1\" dimension to a target tensor\n",
        "*   Permute - Return a view of the input with dimensions permuted (swapped) in a certain way\n",
        "\n",
        "\n",
        "\n",
        "\n",
        "\n"
      ],
      "metadata": {
        "id": "Mc8DTHfwpXCs"
      }
    },
    {
      "cell_type": "code",
      "source": [
        "# Let's create a tensor\n",
        "import torch\n",
        "x= torch.arange(1.,10.)\n",
        "x, x.shape"
      ],
      "metadata": {
        "colab": {
          "base_uri": "https://localhost:8080/"
        },
        "id": "35qzUuXcqtbX",
        "outputId": "fdfd2c3d-c254-4b9b-f7b8-5f9e640863f7"
      },
      "execution_count": 135,
      "outputs": [
        {
          "output_type": "execute_result",
          "data": {
            "text/plain": [
              "(tensor([1., 2., 3., 4., 5., 6., 7., 8., 9.]), torch.Size([9]))"
            ]
          },
          "metadata": {},
          "execution_count": 135
        }
      ]
    },
    {
      "cell_type": "code",
      "source": [
        "# Add an extra dimension\n",
        "x_reshaped = x.reshape(9,1)\n",
        "x_reshaped, x_reshaped.shape"
      ],
      "metadata": {
        "colab": {
          "base_uri": "https://localhost:8080/"
        },
        "id": "nvCGBKvzq3Hm",
        "outputId": "7041ce51-4b1a-4e9c-a2a8-e441203bc099"
      },
      "execution_count": 136,
      "outputs": [
        {
          "output_type": "execute_result",
          "data": {
            "text/plain": [
              "(tensor([[1.],\n",
              "         [2.],\n",
              "         [3.],\n",
              "         [4.],\n",
              "         [5.],\n",
              "         [6.],\n",
              "         [7.],\n",
              "         [8.],\n",
              "         [9.]]),\n",
              " torch.Size([9, 1]))"
            ]
          },
          "metadata": {},
          "execution_count": 136
        }
      ]
    },
    {
      "cell_type": "code",
      "source": [
        "# Change the view\n",
        "z = x.view(1,9)\n",
        "z, z.shape"
      ],
      "metadata": {
        "colab": {
          "base_uri": "https://localhost:8080/"
        },
        "id": "8ki3ce_TrA36",
        "outputId": "1380e9e6-15ce-4976-961c-35f91fd010b3"
      },
      "execution_count": 137,
      "outputs": [
        {
          "output_type": "execute_result",
          "data": {
            "text/plain": [
              "(tensor([[1., 2., 3., 4., 5., 6., 7., 8., 9.]]), torch.Size([1, 9]))"
            ]
          },
          "metadata": {},
          "execution_count": 137
        }
      ]
    },
    {
      "cell_type": "code",
      "source": [
        "# Changing z changes x (because a view of a tensor shares the same memoryas original tensor)\n",
        "z[:,0]= 5\n",
        "z, x"
      ],
      "metadata": {
        "colab": {
          "base_uri": "https://localhost:8080/"
        },
        "id": "wtBN0ZBMr3qa",
        "outputId": "d223d5c0-5e72-4832-9ddc-bafaa7aaf339"
      },
      "execution_count": 138,
      "outputs": [
        {
          "output_type": "execute_result",
          "data": {
            "text/plain": [
              "(tensor([[5., 2., 3., 4., 5., 6., 7., 8., 9.]]),\n",
              " tensor([5., 2., 3., 4., 5., 6., 7., 8., 9.]))"
            ]
          },
          "metadata": {},
          "execution_count": 138
        }
      ]
    },
    {
      "cell_type": "code",
      "source": [
        "# Stack tensors on top of each other\n",
        "x_stacked= torch.stack([x,x,x,x], dim=0)\n",
        "x_stacked"
      ],
      "metadata": {
        "colab": {
          "base_uri": "https://localhost:8080/"
        },
        "id": "UPJ3aC46tEgZ",
        "outputId": "b110719f-b0a5-45bd-c004-561fbf6d9e9e"
      },
      "execution_count": 139,
      "outputs": [
        {
          "output_type": "execute_result",
          "data": {
            "text/plain": [
              "tensor([[5., 2., 3., 4., 5., 6., 7., 8., 9.],\n",
              "        [5., 2., 3., 4., 5., 6., 7., 8., 9.],\n",
              "        [5., 2., 3., 4., 5., 6., 7., 8., 9.],\n",
              "        [5., 2., 3., 4., 5., 6., 7., 8., 9.]])"
            ]
          },
          "metadata": {},
          "execution_count": 139
        }
      ]
    },
    {
      "cell_type": "code",
      "source": [
        "# torch.permute - rearranges the dimensions of a target tensor in a specified order\n",
        "x_original = torch.rand(size=(224,224,3)) # [height, width, colour_channels]\n",
        "\n",
        "# permute the original tensor to rearrange the axis (or dim) order\n",
        "x_permuted = x_original.permute(2,0,1) # shifts axis 0->1, 1->2, 2->0\n",
        "\n",
        "print(f\"Previous shape: {x_original.shape}\")\n",
        "print(f\"New shape: {x_permuted.shape}\") # [colour_channels, height, width]"
      ],
      "metadata": {
        "colab": {
          "base_uri": "https://localhost:8080/"
        },
        "id": "kvtbZtpBJ9jB",
        "outputId": "7496840b-7882-4b69-a38c-d3042ae7a032"
      },
      "execution_count": 140,
      "outputs": [
        {
          "output_type": "stream",
          "name": "stdout",
          "text": [
            "Previous shape: torch.Size([224, 224, 3])\n",
            "New shape: torch.Size([3, 224, 224])\n"
          ]
        }
      ]
    },
    {
      "cell_type": "code",
      "source": [
        "x_original[0,0,0] = 45678\n",
        "x_original"
      ],
      "metadata": {
        "colab": {
          "base_uri": "https://localhost:8080/"
        },
        "id": "KosyMqGvP7Qu",
        "outputId": "e76eb6b2-65f6-4b35-c5a7-94d85133f648"
      },
      "execution_count": 141,
      "outputs": [
        {
          "output_type": "execute_result",
          "data": {
            "text/plain": [
              "tensor([[[4.5678e+04, 9.6525e-01, 6.4660e-01],\n",
              "         [3.4900e-01, 5.0530e-01, 1.9687e-01],\n",
              "         [7.8284e-01, 3.3529e-01, 2.3107e-01],\n",
              "         ...,\n",
              "         [6.5455e-01, 9.7732e-01, 2.1689e-01],\n",
              "         [2.0759e-01, 3.1963e-01, 4.6646e-01],\n",
              "         [2.0661e-02, 6.2153e-01, 7.2437e-01]],\n",
              "\n",
              "        [[6.5437e-01, 1.8347e-01, 3.5047e-01],\n",
              "         [5.2779e-01, 4.8600e-01, 9.6265e-01],\n",
              "         [5.2332e-01, 2.0020e-01, 2.5184e-01],\n",
              "         ...,\n",
              "         [9.3808e-01, 4.4588e-01, 1.9104e-01],\n",
              "         [2.6757e-01, 1.8941e-01, 8.8831e-01],\n",
              "         [8.7627e-01, 5.1876e-01, 7.0278e-01]],\n",
              "\n",
              "        [[8.6125e-01, 3.2285e-01, 2.8500e-01],\n",
              "         [7.1174e-01, 5.8116e-03, 9.2188e-01],\n",
              "         [2.9627e-01, 1.1535e-01, 4.5090e-01],\n",
              "         ...,\n",
              "         [8.2572e-01, 3.5984e-01, 8.9672e-01],\n",
              "         [4.9955e-01, 4.8788e-01, 1.8185e-01],\n",
              "         [6.3334e-01, 4.5945e-01, 3.0638e-01]],\n",
              "\n",
              "        ...,\n",
              "\n",
              "        [[6.2156e-01, 7.7569e-01, 4.0442e-01],\n",
              "         [8.5812e-01, 7.1724e-01, 5.5474e-01],\n",
              "         [7.6798e-01, 6.6797e-01, 1.6573e-01],\n",
              "         ...,\n",
              "         [7.6608e-01, 1.3399e-01, 6.9924e-01],\n",
              "         [1.1211e-01, 4.1030e-01, 3.9700e-01],\n",
              "         [1.2828e-01, 1.3822e-04, 5.2433e-03]],\n",
              "\n",
              "        [[4.3542e-01, 8.9974e-01, 7.8310e-01],\n",
              "         [8.4584e-01, 6.3500e-01, 3.7049e-01],\n",
              "         [4.2017e-01, 2.2319e-01, 7.6943e-02],\n",
              "         ...,\n",
              "         [8.8134e-01, 6.6813e-01, 1.0652e-01],\n",
              "         [4.7246e-01, 7.9292e-01, 4.4374e-01],\n",
              "         [1.4217e-01, 4.4152e-02, 4.2432e-01]],\n",
              "\n",
              "        [[9.8323e-01, 3.9508e-01, 5.6943e-01],\n",
              "         [4.4359e-01, 4.0299e-01, 3.1101e-01],\n",
              "         [7.0055e-01, 3.4148e-01, 6.4662e-01],\n",
              "         ...,\n",
              "         [8.4340e-01, 4.5846e-01, 6.9545e-01],\n",
              "         [7.0392e-02, 9.7387e-01, 5.4128e-01],\n",
              "         [3.9552e-01, 9.6888e-01, 6.7389e-01]]])"
            ]
          },
          "metadata": {},
          "execution_count": 141
        }
      ]
    },
    {
      "cell_type": "markdown",
      "source": [
        "# indexing (selecting data from tensors)\n",
        "  \n",
        "\n",
        "Indexing with Pytorch similar to indexing with NumPy"
      ],
      "metadata": {
        "id": "GhmF3dgtRUwt"
      }
    },
    {
      "cell_type": "code",
      "source": [
        "#Create a Tensor\n",
        "x = torch.arange(1,10).reshape(1,3,3)\n",
        "x"
      ],
      "metadata": {
        "colab": {
          "base_uri": "https://localhost:8080/"
        },
        "id": "GHfnK0wMRclO",
        "outputId": "1f9b431a-c011-4fa4-d6a6-408ce4d641f4"
      },
      "execution_count": 142,
      "outputs": [
        {
          "output_type": "execute_result",
          "data": {
            "text/plain": [
              "tensor([[[1, 2, 3],\n",
              "         [4, 5, 6],\n",
              "         [7, 8, 9]]])"
            ]
          },
          "metadata": {},
          "execution_count": 142
        }
      ]
    },
    {
      "cell_type": "code",
      "source": [
        "# Let's index on our new tensor\n",
        "x[0]"
      ],
      "metadata": {
        "colab": {
          "base_uri": "https://localhost:8080/"
        },
        "id": "8OSxLbfhRrwN",
        "outputId": "867cc1d0-5dfd-4c60-8824-291031ebde91"
      },
      "execution_count": 143,
      "outputs": [
        {
          "output_type": "execute_result",
          "data": {
            "text/plain": [
              "tensor([[1, 2, 3],\n",
              "        [4, 5, 6],\n",
              "        [7, 8, 9]])"
            ]
          },
          "metadata": {},
          "execution_count": 143
        }
      ]
    },
    {
      "cell_type": "code",
      "source": [
        "# Let's index on the middle bracket (dim=1)\n",
        "x[0][0]"
      ],
      "metadata": {
        "colab": {
          "base_uri": "https://localhost:8080/"
        },
        "id": "iMA2VIw1R84M",
        "outputId": "14be069a-f4b4-4cd5-9bd2-d1ec8f8aa7f3"
      },
      "execution_count": 144,
      "outputs": [
        {
          "output_type": "execute_result",
          "data": {
            "text/plain": [
              "tensor([1, 2, 3])"
            ]
          },
          "metadata": {},
          "execution_count": 144
        }
      ]
    },
    {
      "cell_type": "code",
      "source": [
        "#Let's index on the most inner bracket (last dimension)\n",
        "x[0][0][0]"
      ],
      "metadata": {
        "colab": {
          "base_uri": "https://localhost:8080/"
        },
        "id": "Mh8L2ucZSCcM",
        "outputId": "c7a29016-4a2c-4d8f-9ded-90a768e61bd7"
      },
      "execution_count": 145,
      "outputs": [
        {
          "output_type": "execute_result",
          "data": {
            "text/plain": [
              "tensor(1)"
            ]
          },
          "metadata": {},
          "execution_count": 145
        }
      ]
    },
    {
      "cell_type": "code",
      "source": [
        "x[0][2][2]"
      ],
      "metadata": {
        "colab": {
          "base_uri": "https://localhost:8080/"
        },
        "id": "G_bX7g3gSOP8",
        "outputId": "f14fe1dd-58a5-450b-92b2-a537a562793a"
      },
      "execution_count": 146,
      "outputs": [
        {
          "output_type": "execute_result",
          "data": {
            "text/plain": [
              "tensor(9)"
            ]
          },
          "metadata": {},
          "execution_count": 146
        }
      ]
    },
    {
      "cell_type": "code",
      "source": [
        "# You can also use \":\" to select \"all\" of a target dimension\n",
        "x[:,0]"
      ],
      "metadata": {
        "colab": {
          "base_uri": "https://localhost:8080/"
        },
        "id": "YyiiHXESShPU",
        "outputId": "8eb21c8d-7f68-4a16-969d-d783bc7d2e24"
      },
      "execution_count": 147,
      "outputs": [
        {
          "output_type": "execute_result",
          "data": {
            "text/plain": [
              "tensor([[1, 2, 3]])"
            ]
          },
          "metadata": {},
          "execution_count": 147
        }
      ]
    },
    {
      "cell_type": "code",
      "source": [
        " # Get all values of 0th and 1st dimensions but only index 1 of 2nd dimension\n",
        " x[:,:,1]"
      ],
      "metadata": {
        "colab": {
          "base_uri": "https://localhost:8080/"
        },
        "id": "dZff227GSprM",
        "outputId": "503a3227-19fa-4773-8b01-098677f8967d"
      },
      "execution_count": 148,
      "outputs": [
        {
          "output_type": "execute_result",
          "data": {
            "text/plain": [
              "tensor([[2, 5, 8]])"
            ]
          },
          "metadata": {},
          "execution_count": 148
        }
      ]
    },
    {
      "cell_type": "code",
      "source": [
        "# Get all values of the 0 dimension but only the 1 index value of 1st and 2nd dimension\n",
        "x[:,1,1]"
      ],
      "metadata": {
        "colab": {
          "base_uri": "https://localhost:8080/"
        },
        "id": "4kebm82eS95L",
        "outputId": "f39ef034-9848-4d67-c0f9-58ec594d5507"
      },
      "execution_count": 149,
      "outputs": [
        {
          "output_type": "execute_result",
          "data": {
            "text/plain": [
              "tensor([5])"
            ]
          },
          "metadata": {},
          "execution_count": 149
        }
      ]
    },
    {
      "cell_type": "code",
      "source": [],
      "metadata": {
        "id": "n6Io5SLlTIaz"
      },
      "execution_count": 149,
      "outputs": []
    },
    {
      "cell_type": "markdown",
      "source": [
        "# PyTorch Tensors & NumPy"
      ],
      "metadata": {
        "id": "suM6xgbtVSaK"
      }
    },
    {
      "cell_type": "code",
      "source": [
        "# Numpy array to Tensor\n",
        "import torch\n",
        "import numpy as np\n",
        "\n",
        "array = np.arange(1.0, 8.0)\n",
        "tensor = torch.from_numpy(array)\n",
        "array, tensor"
      ],
      "metadata": {
        "colab": {
          "base_uri": "https://localhost:8080/"
        },
        "id": "WM7se2UAVWJS",
        "outputId": "7f087e5a-521f-4fa6-c558-e41189b4611a"
      },
      "execution_count": 150,
      "outputs": [
        {
          "output_type": "execute_result",
          "data": {
            "text/plain": [
              "(array([1., 2., 3., 4., 5., 6., 7.]),\n",
              " tensor([1., 2., 3., 4., 5., 6., 7.], dtype=torch.float64))"
            ]
          },
          "metadata": {},
          "execution_count": 150
        }
      ]
    },
    {
      "cell_type": "code",
      "source": [
        "array.dtype #Numpy default dtype"
      ],
      "metadata": {
        "colab": {
          "base_uri": "https://localhost:8080/"
        },
        "id": "Ke0wkRuqVsKp",
        "outputId": "2b36feea-a23c-4b1e-fa0f-dba817fd57da"
      },
      "execution_count": 151,
      "outputs": [
        {
          "output_type": "execute_result",
          "data": {
            "text/plain": [
              "dtype('float64')"
            ]
          },
          "metadata": {},
          "execution_count": 151
        }
      ]
    },
    {
      "cell_type": "code",
      "source": [
        "torch.arange(1.0,8.0).dtype # Torch default dtype"
      ],
      "metadata": {
        "colab": {
          "base_uri": "https://localhost:8080/"
        },
        "id": "-lD6rPMIV0ua",
        "outputId": "5294affb-7bba-4ebb-ec8c-71384951cc59"
      },
      "execution_count": 152,
      "outputs": [
        {
          "output_type": "execute_result",
          "data": {
            "text/plain": [
              "torch.float32"
            ]
          },
          "metadata": {},
          "execution_count": 152
        }
      ]
    },
    {
      "cell_type": "code",
      "source": [
        " # Change the value of array, what will this to do 'Tensor'?\n",
        " array= array+1\n",
        " array, tensor"
      ],
      "metadata": {
        "colab": {
          "base_uri": "https://localhost:8080/"
        },
        "id": "3JdV6eKRV6Nq",
        "outputId": "1a4d2e90-5dac-40e0-a7d4-26d9736f8bce"
      },
      "execution_count": 153,
      "outputs": [
        {
          "output_type": "execute_result",
          "data": {
            "text/plain": [
              "(array([2., 3., 4., 5., 6., 7., 8.]),\n",
              " tensor([1., 2., 3., 4., 5., 6., 7.], dtype=torch.float64))"
            ]
          },
          "metadata": {},
          "execution_count": 153
        }
      ]
    },
    {
      "cell_type": "code",
      "source": [
        "tensor = torch.ones(7)\n",
        "numpy_tensor = tensor.numpy()\n",
        "tensor, numpy_tensor"
      ],
      "metadata": {
        "colab": {
          "base_uri": "https://localhost:8080/"
        },
        "id": "SZrFDpJZWiOF",
        "outputId": "80c49388-5d95-4cde-be39-06d3befbf97a"
      },
      "execution_count": 154,
      "outputs": [
        {
          "output_type": "execute_result",
          "data": {
            "text/plain": [
              "(tensor([1., 1., 1., 1., 1., 1., 1.]),\n",
              " array([1., 1., 1., 1., 1., 1., 1.], dtype=float32))"
            ]
          },
          "metadata": {},
          "execution_count": 154
        }
      ]
    },
    {
      "cell_type": "markdown",
      "source": [
        "## Reproducbility (trying to take random out of random)\n",
        "\n",
        "In short how a neural network learns:\n",
        "\n",
        "'start with random numbers -> tensor operations -> update random numbers to try and make them better representations of the data -> again -> again -> again ....\n",
        "\n",
        "To reduce the randomness in neural networks and Pytorch comes the concept of a **random seed **\n",
        "\n",
        "Essentially what the random seed does is \"Flavour\" the randomness."
      ],
      "metadata": {
        "id": "uOEy2yzuXrym"
      }
    },
    {
      "cell_type": "code",
      "source": [
        "# Create two random tensors \n",
        "random_tensor_A = torch.rand(3,4)\n",
        "random_tensor_B = torch.rand(3,4)\n",
        "\n",
        "print(random_tensor_A)\n",
        "print(random_tensor_B)\n",
        "print(random_tensor_A == random_tensor_B)"
      ],
      "metadata": {
        "colab": {
          "base_uri": "https://localhost:8080/"
        },
        "id": "QdVNd0cBW3i5",
        "outputId": "96b6e0e5-4bef-46ec-f296-277bd6f50d32"
      },
      "execution_count": 155,
      "outputs": [
        {
          "output_type": "stream",
          "name": "stdout",
          "text": [
            "tensor([[0.5668, 0.6825, 0.8602, 0.0827],\n",
            "        [0.0636, 0.0750, 0.5613, 0.4573],\n",
            "        [0.4740, 0.8817, 0.3523, 0.7567]])\n",
            "tensor([[0.4618, 0.7884, 0.3413, 0.2775],\n",
            "        [0.8887, 0.5780, 0.4177, 0.0492],\n",
            "        [0.1133, 0.8960, 0.6541, 0.1529]])\n",
            "tensor([[False, False, False, False],\n",
            "        [False, False, False, False],\n",
            "        [False, False, False, False]])\n"
          ]
        }
      ]
    },
    {
      "cell_type": "code",
      "source": [
        "# Set the random seed\n",
        "RANDOM_SEED = 45\n",
        "torch.manual_seed(RANDOM_SEED)\n",
        "random_tensor_C = torch.rand(3,4)\n",
        "\n",
        "torch.manual_seed(RANDOM_SEED)\n",
        "random_tensor_D = torch.rand(3,4)\n",
        "\n",
        "print(random_tensor_C)\n",
        "print(random_tensor_D)\n",
        "print(random_tensor_C == random_tensor_D)"
      ],
      "metadata": {
        "colab": {
          "base_uri": "https://localhost:8080/"
        },
        "id": "_x25ySeZZHLg",
        "outputId": "23788506-91c1-461e-d726-dd917bfc21b7"
      },
      "execution_count": 156,
      "outputs": [
        {
          "output_type": "stream",
          "name": "stdout",
          "text": [
            "tensor([[0.1869, 0.9613, 0.6834, 0.8988],\n",
            "        [0.0505, 0.5555, 0.7861, 0.0566],\n",
            "        [0.7842, 0.1480, 0.0388, 0.1037]])\n",
            "tensor([[0.1869, 0.9613, 0.6834, 0.8988],\n",
            "        [0.0505, 0.5555, 0.7861, 0.0566],\n",
            "        [0.7842, 0.1480, 0.0388, 0.1037]])\n",
            "tensor([[True, True, True, True],\n",
            "        [True, True, True, True],\n",
            "        [True, True, True, True]])\n"
          ]
        }
      ]
    },
    {
      "cell_type": "markdown",
      "source": [
        "#Running tensors and PyTorch objects on the GPUs (and making faster computations)\n",
        "GPUs = faster computation on numbers, thanks to CUDA + NVIDIA hardware + PyTorch working behind scenes \n",
        "\n",
        "## 1. Getting a GPU\n",
        "\n",
        "   \n",
        "\n",
        "1.   Easiest - Use Google Colab for a free GPU\n",
        "2.   Use your own GPU\n",
        "3.   Use cloud computing - GCP,AWS, Azure these services allow you to rent computers on the cloud and access them\n",
        "\n"
      ],
      "metadata": {
        "id": "N5rgUkVec9c2"
      }
    },
    {
      "cell_type": "markdown",
      "source": [
        "# PyTorch Workflow"
      ],
      "metadata": {
        "id": "9r0_L4pzoAV4"
      }
    },
    {
      "cell_type": "markdown",
      "source": [
        "1.Data (Preparing and loading)\n",
        "  Data can be almost anything... in machine learning.\n",
        "  * Excel\n",
        "  * Images\n",
        "  * Videos\n",
        "  * DNA \n",
        "  * Test\n",
        "Machine learning is a game of two parts:\n",
        "1. Get data into a numerical resresentation.\n",
        "2. Build a model to learn patterns in that numerical representation\n",
        "\n"
      ],
      "metadata": {
        "id": "vLp1XKeKoGQE"
      }
    },
    {
      "cell_type": "markdown",
      "source": [
        "#Linear Regression"
      ],
      "metadata": {
        "id": "VGHXabNhsdpO"
      }
    },
    {
      "cell_type": "code",
      "source": [
        "# Create known parameters\n",
        "weight = 0.7\n",
        "bias = 0.3\n",
        "\n",
        "# Create \n",
        "start = 0\n",
        "end = 1\n",
        "step = 0.02\n",
        "x = torch.arange(start,end,step).unsqueeze(dim=1)\n",
        "y = weight * x + bias\n",
        "x[:10], y[:10]"
      ],
      "metadata": {
        "colab": {
          "base_uri": "https://localhost:8080/"
        },
        "id": "tcZj9hBIdfpu",
        "outputId": "44a8c920-4986-4c1e-ef75-ba15adbeceb9"
      },
      "execution_count": 157,
      "outputs": [
        {
          "output_type": "execute_result",
          "data": {
            "text/plain": [
              "(tensor([[0.0000],\n",
              "         [0.0200],\n",
              "         [0.0400],\n",
              "         [0.0600],\n",
              "         [0.0800],\n",
              "         [0.1000],\n",
              "         [0.1200],\n",
              "         [0.1400],\n",
              "         [0.1600],\n",
              "         [0.1800]]),\n",
              " tensor([[0.3000],\n",
              "         [0.3140],\n",
              "         [0.3280],\n",
              "         [0.3420],\n",
              "         [0.3560],\n",
              "         [0.3700],\n",
              "         [0.3840],\n",
              "         [0.3980],\n",
              "         [0.4120],\n",
              "         [0.4260]]))"
            ]
          },
          "metadata": {},
          "execution_count": 157
        }
      ]
    },
    {
      "cell_type": "markdown",
      "source": [
        "# Splitting Data into training and test sets ** "
      ],
      "metadata": {
        "id": "pNVxaS8DsUea"
      }
    },
    {
      "cell_type": "code",
      "source": [
        "# Create a train/test split\n",
        "\n",
        "train_split = int(0.8 * len(x))\n",
        "x_train, y_train = x[:train_split], y[:train_split]\n",
        "x_test, y_test = x[train_split:], y[train_split:]\n",
        "\n",
        "len(x_train), len(y_train), len(x_test), len(y_test)"
      ],
      "metadata": {
        "colab": {
          "base_uri": "https://localhost:8080/"
        },
        "id": "lon_qHVMsF1H",
        "outputId": "7ccc2ef3-ad91-43f6-884d-c0c084f38043"
      },
      "execution_count": 158,
      "outputs": [
        {
          "output_type": "execute_result",
          "data": {
            "text/plain": [
              "(40, 40, 10, 10)"
            ]
          },
          "metadata": {},
          "execution_count": 158
        }
      ]
    },
    {
      "cell_type": "markdown",
      "source": [
        "How we might better visualize our data?\n",
        "\n",
        "This is where the data explorer's motto comes in!\n",
        "\n",
        "\"Visualize, visualize, visualize\""
      ],
      "metadata": {
        "id": "5VKTvznDtrCb"
      }
    },
    {
      "cell_type": "code",
      "source": [
        "def plot_predictions(train_data = x_train,\n",
        "                     train_labels=y_train,\n",
        "                     test_data=x_test,\n",
        "                     test_labels=y_test,\n",
        "                     predictions= None):\n",
        "  \"Plots training data, test data and compares predictions.\"\n",
        "\n",
        "  plt.figure(figsize=(10,7))\n",
        "\n",
        "  # Plot training data in blue\n",
        "  plt.scatter(train_data, train_labels, c=\"b\", s=4, label = \"Training Data\")\n",
        "\n",
        "  # Plot test data in green\n",
        "  plt.scatter(test_data,test_labels,c=\"g\",s=4,label=\"Testing Data\")\n",
        "\n",
        "  if predictions is not None:\n",
        "    plt.scatter(test_data, predictions)\n",
        "\n",
        "  # Show the Legend\n",
        "  plt.legend(prop={\"size\": 14})\n",
        "\n",
        "plot_predictions()"
      ],
      "metadata": {
        "colab": {
          "base_uri": "https://localhost:8080/",
          "height": 460
        },
        "id": "siyXgH6GsnlI",
        "outputId": "4a9fd003-50a1-4fb7-dfa3-ceae119d342a"
      },
      "execution_count": 159,
      "outputs": [
        {
          "output_type": "display_data",
          "data": {
            "text/plain": [
              "<Figure size 1000x700 with 1 Axes>"
            ],
            "image/png": "[encoded data removed]"
          },
          "metadata": {}
        }
      ]
    },
    {
      "cell_type": "markdown",
      "source": [
        "# Build a Model\n",
        "My first PyTorch Model!\n",
        "\n",
        "This is very exciting!!\n",
        "\n",
        "I will use OOP Python\n",
        " torch.nn.module : Base Class for all neural network modules.\n",
        " source: https://realpython.com/python3-object-oriented-programming/\n",
        "\n",
        " PyTorch uses two main algorithms:\n",
        "  1. Gradient Descent\n",
        "  2. Backpropagation\n",
        "  source: https://www.youtube.com/watch?v=IHZwWFHWa-w&list=PLZHQObOWTQDNU6R1_67000Dx_ZCJB-3pi&index=2"
      ],
      "metadata": {
        "id": "simHQ7zMwUDF"
      }
    },
    {
      "cell_type": "code",
      "source": [
        "# Create linear regression model class\n",
        "from torch import nn\n",
        "\n",
        "class LinearRegressionModel(nn.Module): # <- Almost inherits everyting in Pytorch nn.Module\n",
        "  def __init__(self):\n",
        "    super().__init__()\n",
        "    #initialize model parameters\n",
        "    self.weights = nn.Parameter(torch.randn(1,\n",
        "                                            requires_grad=True,\n",
        "                                            dtype=torch.float))\n",
        "    self.bias = nn.Parameter(torch.randn(1,\n",
        "                                          requires_grad=True,\n",
        "                                          dtype=torch.float))\n",
        "    # if you are inherit from nn.module you should override *forward* method\n",
        "    # Forward method to define the computation in the model\n",
        "  def forward(self,x:torch.Tensor) -> torch.Tensor: # <- 'x' is the input data\n",
        "      return self.weights * x + self.bias # this is the linear regression formula"
      ],
      "metadata": {
        "id": "lBhPOZrDte-G"
      },
      "execution_count": 164,
      "outputs": []
    },
    {
      "cell_type": "markdown",
      "source": [
        "### Pytorch Model Building Essentials\n",
        "\n",
        "* torch.nn - contains all of the buildings for computational graphs\n",
        "* torch.nn.Parameter - what parameters should our model try and learn,\n",
        "*torch.nn.Module - The base class for all neural network modules, do not forget override method\n",
        "* torch.optim - this where the optimizers in PyTorch live, they will help gradient descent\n",
        "* def forward() - All nn.Module subclasses require you to override forward(), this method defines what happens in the forward computation"
      ],
      "metadata": {
        "id": "cO_i41STUOGn"
      }
    },
    {
      "cell_type": "code",
      "source": [
        "# Create a random seed\n",
        "torch.manual_seed(42)\n",
        "\n",
        "# Create an instance of the model (this is a subclass of nn.modele)\n",
        "model_0= LinearRegressionModel()\n",
        "\n",
        "# Check out the parameters\n",
        "list(model_0.parameters())"
      ],
      "metadata": {
        "colab": {
          "base_uri": "https://localhost:8080/"
        },
        "id": "pj6E6Nz6cVbd",
        "outputId": "0c24f66d-f9cb-491e-8ebe-216ed6191e8e"
      },
      "execution_count": 165,
      "outputs": [
        {
          "output_type": "execute_result",
          "data": {
            "text/plain": [
              "[Parameter containing:\n",
              " tensor([0.3367], requires_grad=True),\n",
              " Parameter containing:\n",
              " tensor([0.1288], requires_grad=True)]"
            ]
          },
          "metadata": {},
          "execution_count": 165
        }
      ]
    },
    {
      "cell_type": "code",
      "source": [
        "with torch.inference_mode():\n",
        "  y_preds = model_0(x_test)\n",
        "\n",
        "y_preds"
      ],
      "metadata": {
        "colab": {
          "base_uri": "https://localhost:8080/"
        },
        "id": "LHsoKQxCOTmx",
        "outputId": "0098abab-8f48-46c4-e82c-36e302cec3b1"
      },
      "execution_count": 166,
      "outputs": [
        {
          "output_type": "execute_result",
          "data": {
            "text/plain": [
              "tensor([[0.3982],\n",
              "        [0.4049],\n",
              "        [0.4116],\n",
              "        [0.4184],\n",
              "        [0.4251],\n",
              "        [0.4318],\n",
              "        [0.4386],\n",
              "        [0.4453],\n",
              "        [0.4520],\n",
              "        [0.4588]])"
            ]
          },
          "metadata": {},
          "execution_count": 166
        }
      ]
    },
    {
      "cell_type": "code",
      "source": [
        "plot_predictions(predictions = y_preds)"
      ],
      "metadata": {
        "colab": {
          "base_uri": "https://localhost:8080/",
          "height": 460
        },
        "id": "0yhS4lFodgan",
        "outputId": "77d88c0c-2f52-4a47-e928-efb47d81c70a"
      },
      "execution_count": 167,
      "outputs": [
        {
          "output_type": "display_data",
          "data": {
            "text/plain": [
              "<Figure size 1000x700 with 1 Axes>"
            ],
            "image/png": "[encoded data removed]"
          },
          "metadata": {}
        }
      ]
    },
    {
      "cell_type": "markdown",
      "source": [
        "## 3. Train Your Model\n",
        "One way to measure how poor or how wrong your models predictions are is to use a loss function.\n",
        "* Note: Loss function may also be called \"cost function\" or criterion in different areas. Four our case, we're going yo reder to it as a loss function.\n",
        "\n",
        "** Loss Function:** A function to measure how wrong your model's predictions are to the ideal outputs, lower is better."
      ],
      "metadata": {
        "id": "xMqddnVQwicB"
      }
    },
    {
      "cell_type": "code",
      "source": [],
      "metadata": {
        "id": "-XAyyZqEeAMf"
      },
      "execution_count": null,
      "outputs": []
    }
  ]
}