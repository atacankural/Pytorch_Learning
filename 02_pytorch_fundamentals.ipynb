{
  "nbformat": 4,
  "nbformat_minor": 0,
  "metadata": {
    "colab": {
      "provenance": [],
      "gpuType": "T4",
      "toc_visible": true
    },
    "kernelspec": {
      "name": "python3",
      "display_name": "Python 3"
    },
    "language_info": {
      "name": "python"
    },
    "accelerator": "GPU",
    "gpuClass": "standard"
  },
  "cells": [
    {
      "cell_type": "code",
      "execution_count": 6,
      "metadata": {
        "colab": {
          "base_uri": "https://localhost:8080/"
        },
        "id": "U-sm6I76O2zO",
        "outputId": "225635c0-ee02-4396-83f6-e1132e592148"
      },
      "outputs": [
        {
          "output_type": "stream",
          "name": "stdout",
          "text": [
            "good night then!\n"
          ]
        }
      ],
      "source": [
        "print(\"good night then!\")"
      ]
    },
    {
      "cell_type": "code",
      "source": [
        "import torch\n",
        "import pandas as pd \n",
        "import numpy as np\n",
        "import matplotlib.pyplot as plt\n",
        "print(torch.__version__)"
      ],
      "metadata": {
        "colab": {
          "base_uri": "https://localhost:8080/"
        },
        "id": "HzXxFdqWPU4Z",
        "outputId": "321a67e1-9d22-4289-8fa0-f1f617f8cf21"
      },
      "execution_count": 7,
      "outputs": [
        {
          "output_type": "stream",
          "name": "stdout",
          "text": [
            "2.0.0+cu118\n"
          ]
        }
      ]
    },
    {
      "cell_type": "code",
      "source": [
        "# Creating Tensor\n",
        "matrix = torch.tensor([[1, 3],[5,9]])"
      ],
      "metadata": {
        "id": "ZRdLGzWDPtMY"
      },
      "execution_count": 8,
      "outputs": []
    },
    {
      "cell_type": "code",
      "source": [
        "matrix"
      ],
      "metadata": {
        "colab": {
          "base_uri": "https://localhost:8080/"
        },
        "id": "F5DmzIPiUjV_",
        "outputId": "0d371b17-c130-4d1e-8d02-d4fe031afa2a"
      },
      "execution_count": 9,
      "outputs": [
        {
          "output_type": "execute_result",
          "data": {
            "text/plain": [
              "tensor([[1, 3],\n",
              "        [5, 9]])"
            ]
          },
          "metadata": {},
          "execution_count": 9
        }
      ]
    },
    {
      "cell_type": "code",
      "source": [
        "matrix.ndim\n"
      ],
      "metadata": {
        "colab": {
          "base_uri": "https://localhost:8080/"
        },
        "id": "ZUptUJA2UryV",
        "outputId": "eefcaa21-6297-451e-b675-5c69624de7a7"
      },
      "execution_count": 10,
      "outputs": [
        {
          "output_type": "execute_result",
          "data": {
            "text/plain": [
              "2"
            ]
          },
          "metadata": {},
          "execution_count": 10
        }
      ]
    },
    {
      "cell_type": "code",
      "source": [
        "matrix[0]"
      ],
      "metadata": {
        "colab": {
          "base_uri": "https://localhost:8080/"
        },
        "id": "zTzhwHNmU1t8",
        "outputId": "ba31bf53-21d4-4cdf-96a6-a7648258bd3e"
      },
      "execution_count": 11,
      "outputs": [
        {
          "output_type": "execute_result",
          "data": {
            "text/plain": [
              "tensor([1, 3])"
            ]
          },
          "metadata": {},
          "execution_count": 11
        }
      ]
    },
    {
      "cell_type": "markdown",
      "source": [
        "Why Random Tensor?\n"
      ],
      "metadata": {
        "id": "4GVKTFBsWh2D"
      }
    },
    {
      "cell_type": "code",
      "source": [
        "random_tensor = torch.rand(3,4)\n",
        "random_tensor"
      ],
      "metadata": {
        "colab": {
          "base_uri": "https://localhost:8080/"
        },
        "id": "jloP6DdWWkyT",
        "outputId": "65a0ac66-1aa8-4555-9f87-00c603c16f6a"
      },
      "execution_count": 12,
      "outputs": [
        {
          "output_type": "execute_result",
          "data": {
            "text/plain": [
              "tensor([[0.8756, 0.5244, 0.7253, 0.4198],\n",
              "        [0.5915, 0.3629, 0.1236, 0.2684],\n",
              "        [0.8904, 0.4390, 0.0523, 0.1940]])"
            ]
          },
          "metadata": {},
          "execution_count": 12
        }
      ]
    },
    {
      "cell_type": "code",
      "source": [
        "random_tensor.ndim\n"
      ],
      "metadata": {
        "colab": {
          "base_uri": "https://localhost:8080/"
        },
        "id": "uk7-1BV5Xhy9",
        "outputId": "1e878f57-dd41-4b09-a1f0-4c92732ad6ee"
      },
      "execution_count": 13,
      "outputs": [
        {
          "output_type": "execute_result",
          "data": {
            "text/plain": [
              "2"
            ]
          },
          "metadata": {},
          "execution_count": 13
        }
      ]
    },
    {
      "cell_type": "code",
      "source": [
        "random_tensor_big = torch.rand(2,3,10)\n",
        "random_tensor_big"
      ],
      "metadata": {
        "colab": {
          "base_uri": "https://localhost:8080/"
        },
        "id": "ppkXnpkzXlOz",
        "outputId": "584cf54c-10f3-4741-8328-838a343afb80"
      },
      "execution_count": 14,
      "outputs": [
        {
          "output_type": "execute_result",
          "data": {
            "text/plain": [
              "tensor([[[0.5868, 0.7849, 0.8565, 0.0281, 0.3184, 0.7494, 0.6170, 0.6460,\n",
              "          0.2526, 0.5508],\n",
              "         [0.6038, 0.5125, 0.1923, 0.6430, 0.4701, 0.7480, 0.7190, 0.2694,\n",
              "          0.7833, 0.2726],\n",
              "         [0.0245, 0.0604, 0.9040, 0.1145, 0.8316, 0.7548, 0.0484, 0.7325,\n",
              "          0.4295, 0.4367]],\n",
              "\n",
              "        [[0.8628, 0.8166, 0.7933, 0.5307, 0.8938, 0.4573, 0.4182, 0.2088,\n",
              "          0.0782, 0.5488],\n",
              "         [0.3837, 0.5682, 0.9319, 0.8658, 0.6115, 0.5516, 0.6985, 0.7089,\n",
              "          0.3041, 0.2522],\n",
              "         [0.2116, 0.8190, 0.9462, 0.1442, 0.8997, 0.4165, 0.7483, 0.3876,\n",
              "          0.8404, 0.9530]]])"
            ]
          },
          "metadata": {},
          "execution_count": 14
        }
      ]
    },
    {
      "cell_type": "code",
      "source": [
        "random_image_size_tensor = torch.rand(size= (3, 224, 224))\n",
        "random_image_size_tensor.shape, random_image_size_tensor.ndim"
      ],
      "metadata": {
        "colab": {
          "base_uri": "https://localhost:8080/"
        },
        "id": "HIGXwg7dXxWD",
        "outputId": "7c64b50f-abe7-4beb-ac6e-768eb5632284"
      },
      "execution_count": 15,
      "outputs": [
        {
          "output_type": "execute_result",
          "data": {
            "text/plain": [
              "(torch.Size([3, 224, 224]), 3)"
            ]
          },
          "metadata": {},
          "execution_count": 15
        }
      ]
    },
    {
      "cell_type": "code",
      "source": [
        "torch.arange(0, 10)"
      ],
      "metadata": {
        "id": "iTy1zrS_YYaa",
        "colab": {
          "base_uri": "https://localhost:8080/"
        },
        "outputId": "9cb06445-df05-4095-d4fb-e9495b8ae880"
      },
      "execution_count": 16,
      "outputs": [
        {
          "output_type": "execute_result",
          "data": {
            "text/plain": [
              "tensor([0, 1, 2, 3, 4, 5, 6, 7, 8, 9])"
            ]
          },
          "metadata": {},
          "execution_count": 16
        }
      ]
    },
    {
      "cell_type": "code",
      "source": [
        "one_to_hundred= torch.arange(start=1, end=100, step=10)\n",
        "one_to_hundred"
      ],
      "metadata": {
        "colab": {
          "base_uri": "https://localhost:8080/"
        },
        "id": "kSeYZnrfch2f",
        "outputId": "56154f1a-90e2-44d5-c1d4-f2dcdd8ba9f1"
      },
      "execution_count": 17,
      "outputs": [
        {
          "output_type": "execute_result",
          "data": {
            "text/plain": [
              "tensor([ 1, 11, 21, 31, 41, 51, 61, 71, 81, 91])"
            ]
          },
          "metadata": {},
          "execution_count": 17
        }
      ]
    },
    {
      "cell_type": "code",
      "source": [
        "ten_zeroes = torch.zeros_like(input=one_to_hundred)\n",
        "ten_zeroes"
      ],
      "metadata": {
        "colab": {
          "base_uri": "https://localhost:8080/"
        },
        "id": "nSjAxzA2c-WG",
        "outputId": "a8cf8ecf-6853-47d0-f7b2-06e792e606e7"
      },
      "execution_count": 18,
      "outputs": [
        {
          "output_type": "execute_result",
          "data": {
            "text/plain": [
              "tensor([0, 0, 0, 0, 0, 0, 0, 0, 0, 0])"
            ]
          },
          "metadata": {},
          "execution_count": 18
        }
      ]
    },
    {
      "cell_type": "code",
      "source": [
        "float_32_tensor = torch.tensor([1,2,3], dtype = torch.float16)\n",
        "float_32_tensor"
      ],
      "metadata": {
        "id": "WDcWvQ3HeG1l",
        "colab": {
          "base_uri": "https://localhost:8080/"
        },
        "outputId": "0d0c7ccb-f7fb-416b-fc9c-06c7221d15fd"
      },
      "execution_count": 19,
      "outputs": [
        {
          "output_type": "execute_result",
          "data": {
            "text/plain": [
              "tensor([1., 2., 3.], dtype=torch.float16)"
            ]
          },
          "metadata": {},
          "execution_count": 19
        }
      ]
    },
    {
      "cell_type": "code",
      "source": [
        "float_32_tensor = torch.rand(3,6)\n",
        "print(f\"Datatype of tensor: {float_32_tensor.dtype}\")\n",
        "print(f\"Shape of tensor: {float_32_tensor.shape}\")\n",
        "print(f\"Device of tensor: {float_32_tensor.device}\")\n"
      ],
      "metadata": {
        "colab": {
          "base_uri": "https://localhost:8080/"
        },
        "id": "MAIG0-1a4zQb",
        "outputId": "4d51a8f4-bdd9-4e46-c60e-cf60824d29e8"
      },
      "execution_count": 20,
      "outputs": [
        {
          "output_type": "stream",
          "name": "stdout",
          "text": [
            "Datatype of tensor: torch.float32\n",
            "Shape of tensor: torch.Size([3, 6])\n",
            "Device of tensor: cpu\n"
          ]
        }
      ]
    },
    {
      "cell_type": "code",
      "source": [],
      "metadata": {
        "id": "ZN06aMSh73En"
      },
      "execution_count": 20,
      "outputs": []
    },
    {
      "cell_type": "markdown",
      "source": [
        "# Manipulating Tensors\n",
        "\n",
        " \n",
        "\n",
        "*   Addition\n",
        "*   Substraction\n",
        "*   Multiplication\n",
        "*   Division\n",
        "*   Matrix Multiplication\n",
        "\n",
        "\n",
        "\n",
        "\n",
        "\n",
        "\n"
      ],
      "metadata": {
        "id": "GUUERcym9GJB"
      }
    },
    {
      "cell_type": "code",
      "source": [
        "# Create a Tensor\n",
        "tensor = torch.tensor([2, 4, 1])\n",
        "tensor + 1"
      ],
      "metadata": {
        "colab": {
          "base_uri": "https://localhost:8080/"
        },
        "id": "uK-zEG5M9dcW",
        "outputId": "a0fff7f8-580d-4866-dcc7-128c4a630899"
      },
      "execution_count": 21,
      "outputs": [
        {
          "output_type": "execute_result",
          "data": {
            "text/plain": [
              "tensor([3, 5, 2])"
            ]
          },
          "metadata": {},
          "execution_count": 21
        }
      ]
    },
    {
      "cell_type": "code",
      "source": [
        "# Multiply by ten\n",
        "tensor * 2"
      ],
      "metadata": {
        "colab": {
          "base_uri": "https://localhost:8080/"
        },
        "id": "LH70gmoO9tJt",
        "outputId": "34285602-20b0-4f3f-8f4d-8167761d58bd"
      },
      "execution_count": 22,
      "outputs": [
        {
          "output_type": "execute_result",
          "data": {
            "text/plain": [
              "tensor([4, 8, 2])"
            ]
          },
          "metadata": {},
          "execution_count": 22
        }
      ]
    },
    {
      "cell_type": "code",
      "source": [
        " # Another option to multiply\n",
        " torch.mul(tensor, 2)"
      ],
      "metadata": {
        "colab": {
          "base_uri": "https://localhost:8080/"
        },
        "id": "ZdqGd10_92Nk",
        "outputId": "48a9c89d-4d3e-4e80-9870-7837cb82894e"
      },
      "execution_count": 23,
      "outputs": [
        {
          "output_type": "execute_result",
          "data": {
            "text/plain": [
              "tensor([4, 8, 2])"
            ]
          },
          "metadata": {},
          "execution_count": 23
        }
      ]
    },
    {
      "cell_type": "markdown",
      "source": [
        "# Matrix Multiplication\n",
        "1. Element-wise multiplication\n",
        "2. Matrix Multiplication (dot product)"
      ],
      "metadata": {
        "id": "dFstJAW_-6_K"
      }
    },
    {
      "cell_type": "code",
      "source": [
        " # Element  wise application\n",
        " print( tensor , \"*\", tensor)\n",
        " print(f\"Equals: {tensor*tensor}\")"
      ],
      "metadata": {
        "colab": {
          "base_uri": "https://localhost:8080/"
        },
        "id": "OvXMg9jC_CJ8",
        "outputId": "9925732a-7029-49f9-8126-cff1d911b222"
      },
      "execution_count": 24,
      "outputs": [
        {
          "output_type": "stream",
          "name": "stdout",
          "text": [
            "tensor([2, 4, 1]) * tensor([2, 4, 1])\n",
            "Equals: tensor([ 4, 16,  1])\n"
          ]
        }
      ]
    },
    {
      "cell_type": "code",
      "source": [
        "# Matrix Multiplicaion\n",
        "torch.matmul(tensor, tensor)"
      ],
      "metadata": {
        "colab": {
          "base_uri": "https://localhost:8080/"
        },
        "id": "JVWcqNCj_95E",
        "outputId": "c2f41d2a-a93c-4873-b73f-83ed4bfe55da"
      },
      "execution_count": 25,
      "outputs": [
        {
          "output_type": "execute_result",
          "data": {
            "text/plain": [
              "tensor(21)"
            ]
          },
          "metadata": {},
          "execution_count": 25
        }
      ]
    },
    {
      "cell_type": "code",
      "source": [
        "# doing traditional sytle instead matmul()\n",
        "\n",
        "value = 0 \n",
        "for i in range(len(tensor)):\n",
        "  value += tensor[i]* tensor[i]\n",
        "print (value)"
      ],
      "metadata": {
        "colab": {
          "base_uri": "https://localhost:8080/"
        },
        "id": "ZlKd1rwwAZ47",
        "outputId": "6d706528-8d88-4176-8a9a-16652c5aea60"
      },
      "execution_count": 26,
      "outputs": [
        {
          "output_type": "stream",
          "name": "stdout",
          "text": [
            "tensor(21)\n"
          ]
        }
      ]
    },
    {
      "cell_type": "code",
      "source": [],
      "metadata": {
        "id": "SWBRzo9uCYDi"
      },
      "execution_count": 26,
      "outputs": []
    },
    {
      "cell_type": "markdown",
      "source": [
        "# Finding min, max ,mean, sum, etc (tensor Aggregation)"
      ],
      "metadata": {
        "id": "p5hI6zYELZXH"
      }
    },
    {
      "cell_type": "code",
      "source": [
        "# Create a tensor\n",
        "x = torch.arange(0, 100,10)\n",
        "x"
      ],
      "metadata": {
        "colab": {
          "base_uri": "https://localhost:8080/"
        },
        "id": "XYhSNw-VLg5-",
        "outputId": "945fccc3-10a9-492d-c284-5883e6b4375e"
      },
      "execution_count": 27,
      "outputs": [
        {
          "output_type": "execute_result",
          "data": {
            "text/plain": [
              "tensor([ 0, 10, 20, 30, 40, 50, 60, 70, 80, 90])"
            ]
          },
          "metadata": {},
          "execution_count": 27
        }
      ]
    },
    {
      "cell_type": "code",
      "source": [
        "torch.max(x), torch.min(x)"
      ],
      "metadata": {
        "colab": {
          "base_uri": "https://localhost:8080/"
        },
        "id": "uIJIfSe8L5_d",
        "outputId": "489d3003-555b-4f3e-ca57-274b2d380a3d"
      },
      "execution_count": 28,
      "outputs": [
        {
          "output_type": "execute_result",
          "data": {
            "text/plain": [
              "(tensor(90), tensor(0))"
            ]
          },
          "metadata": {},
          "execution_count": 28
        }
      ]
    },
    {
      "cell_type": "code",
      "source": [
        "# torch mean function requires float32 datatype\n",
        "torch.mean(x.type(torch.float32)), x.type(torch.float32).mean()"
      ],
      "metadata": {
        "colab": {
          "base_uri": "https://localhost:8080/"
        },
        "id": "oKWzloitMAPU",
        "outputId": "ecca1ab9-1f1d-44fb-fa10-f5905670cec6"
      },
      "execution_count": 29,
      "outputs": [
        {
          "output_type": "execute_result",
          "data": {
            "text/plain": [
              "(tensor(45.), tensor(45.))"
            ]
          },
          "metadata": {},
          "execution_count": 29
        }
      ]
    },
    {
      "cell_type": "code",
      "source": [
        "# finding positional min, max, mean\n",
        "x.argmin()\n",
        "x.argmax()\n"
      ],
      "metadata": {
        "colab": {
          "base_uri": "https://localhost:8080/"
        },
        "id": "vFqEMfLoMCAM",
        "outputId": "cb273633-be62-4682-d2e0-843ef4349997"
      },
      "execution_count": 30,
      "outputs": [
        {
          "output_type": "execute_result",
          "data": {
            "text/plain": [
              "tensor(9)"
            ]
          },
          "metadata": {},
          "execution_count": 30
        }
      ]
    },
    {
      "cell_type": "code",
      "source": [
        "x[9]"
      ],
      "metadata": {
        "colab": {
          "base_uri": "https://localhost:8080/"
        },
        "id": "7uV2ZqQZNMAc",
        "outputId": "6ff48f62-65f2-4f10-cb69-bb401615b8b5"
      },
      "execution_count": 31,
      "outputs": [
        {
          "output_type": "execute_result",
          "data": {
            "text/plain": [
              "tensor(90)"
            ]
          },
          "metadata": {},
          "execution_count": 31
        }
      ]
    },
    {
      "cell_type": "code",
      "source": [
        "x[x.argmax()]"
      ],
      "metadata": {
        "colab": {
          "base_uri": "https://localhost:8080/"
        },
        "id": "FX_SiMtdN2IM",
        "outputId": "cc6c62b1-fab7-4916-cc1f-b631e3e305c4"
      },
      "execution_count": 32,
      "outputs": [
        {
          "output_type": "execute_result",
          "data": {
            "text/plain": [
              "tensor(90)"
            ]
          },
          "metadata": {},
          "execution_count": 32
        }
      ]
    },
    {
      "cell_type": "code",
      "source": [],
      "metadata": {
        "id": "FqeAa8olN7CT"
      },
      "execution_count": 32,
      "outputs": []
    },
    {
      "cell_type": "markdown",
      "source": [
        "# Reshaping, stacking, squeezing and unsqueezing tensors\n",
        "\n",
        "\n",
        "*   Reshaping - reshapes an input tenrsor to a defined shape\n",
        "*   View - Return a view of an input tensor of certain shape but keep the same memory as the original tensor.\n",
        "*   Stacking - combine multiple tensors on top of each other (vstack) or side by side (hstack)\n",
        "*   Squeeze - removes all \"1\" dimension from a tensor \n",
        "*   Unsqueeze - add a \"1\" dimension to a target tensor\n",
        "*   Permute - Return a view of the input with dimensions permuted (swapped) in a certain way\n",
        "\n",
        "\n",
        "\n",
        "\n",
        "\n"
      ],
      "metadata": {
        "id": "Mc8DTHfwpXCs"
      }
    },
    {
      "cell_type": "code",
      "source": [
        "# Let's create a tensor\n",
        "import torch\n",
        "x= torch.arange(1.,10.)\n",
        "x, x.shape"
      ],
      "metadata": {
        "colab": {
          "base_uri": "https://localhost:8080/"
        },
        "id": "35qzUuXcqtbX",
        "outputId": "cda28f17-3192-4f63-b462-cc4ec0b3143f"
      },
      "execution_count": 33,
      "outputs": [
        {
          "output_type": "execute_result",
          "data": {
            "text/plain": [
              "(tensor([1., 2., 3., 4., 5., 6., 7., 8., 9.]), torch.Size([9]))"
            ]
          },
          "metadata": {},
          "execution_count": 33
        }
      ]
    },
    {
      "cell_type": "code",
      "source": [
        "# Add an extra dimension\n",
        "x_reshaped = x.reshape(9,1)\n",
        "x_reshaped, x_reshaped.shape"
      ],
      "metadata": {
        "colab": {
          "base_uri": "https://localhost:8080/"
        },
        "id": "nvCGBKvzq3Hm",
        "outputId": "6b112217-43fa-4dfc-ec5b-c021503b6e56"
      },
      "execution_count": 34,
      "outputs": [
        {
          "output_type": "execute_result",
          "data": {
            "text/plain": [
              "(tensor([[1.],\n",
              "         [2.],\n",
              "         [3.],\n",
              "         [4.],\n",
              "         [5.],\n",
              "         [6.],\n",
              "         [7.],\n",
              "         [8.],\n",
              "         [9.]]),\n",
              " torch.Size([9, 1]))"
            ]
          },
          "metadata": {},
          "execution_count": 34
        }
      ]
    },
    {
      "cell_type": "code",
      "source": [
        "# Change the view\n",
        "z = x.view(1,9)\n",
        "z, z.shape"
      ],
      "metadata": {
        "colab": {
          "base_uri": "https://localhost:8080/"
        },
        "id": "8ki3ce_TrA36",
        "outputId": "09cc3080-d188-4142-9de3-e7c003a1e9ae"
      },
      "execution_count": 35,
      "outputs": [
        {
          "output_type": "execute_result",
          "data": {
            "text/plain": [
              "(tensor([[1., 2., 3., 4., 5., 6., 7., 8., 9.]]), torch.Size([1, 9]))"
            ]
          },
          "metadata": {},
          "execution_count": 35
        }
      ]
    },
    {
      "cell_type": "code",
      "source": [
        "# Changing z changes x (because a view of a tensor shares the same memoryas original tensor)\n",
        "z[:,0]= 5\n",
        "z, x"
      ],
      "metadata": {
        "colab": {
          "base_uri": "https://localhost:8080/"
        },
        "id": "wtBN0ZBMr3qa",
        "outputId": "b47c7d5c-8d85-4b5d-a3af-43b136a42181"
      },
      "execution_count": 36,
      "outputs": [
        {
          "output_type": "execute_result",
          "data": {
            "text/plain": [
              "(tensor([[5., 2., 3., 4., 5., 6., 7., 8., 9.]]),\n",
              " tensor([5., 2., 3., 4., 5., 6., 7., 8., 9.]))"
            ]
          },
          "metadata": {},
          "execution_count": 36
        }
      ]
    },
    {
      "cell_type": "code",
      "source": [
        "# Stack tensors on top of each other\n",
        "x_stacked= torch.stack([x,x,x,x], dim=0)\n",
        "x_stacked"
      ],
      "metadata": {
        "colab": {
          "base_uri": "https://localhost:8080/"
        },
        "id": "UPJ3aC46tEgZ",
        "outputId": "ae4098ac-c81b-4b04-b1c0-f26274d54e26"
      },
      "execution_count": 37,
      "outputs": [
        {
          "output_type": "execute_result",
          "data": {
            "text/plain": [
              "tensor([[5., 2., 3., 4., 5., 6., 7., 8., 9.],\n",
              "        [5., 2., 3., 4., 5., 6., 7., 8., 9.],\n",
              "        [5., 2., 3., 4., 5., 6., 7., 8., 9.],\n",
              "        [5., 2., 3., 4., 5., 6., 7., 8., 9.]])"
            ]
          },
          "metadata": {},
          "execution_count": 37
        }
      ]
    },
    {
      "cell_type": "code",
      "source": [
        "# torch.permute - rearranges the dimensions of a target tensor in a specified order\n",
        "x_original = torch.rand(size=(224,224,3)) # [height, width, colour_channels]\n",
        "\n",
        "# permute the original tensor to rearrange the axis (or dim) order\n",
        "x_permuted = x_original.permute(2,0,1) # shifts axis 0->1, 1->2, 2->0\n",
        "\n",
        "print(f\"Previous shape: {x_original.shape}\")\n",
        "print(f\"New shape: {x_permuted.shape}\") # [colour_channels, height, width]"
      ],
      "metadata": {
        "colab": {
          "base_uri": "https://localhost:8080/"
        },
        "id": "kvtbZtpBJ9jB",
        "outputId": "98dffaab-468b-485f-bc7c-2931486fec8b"
      },
      "execution_count": 38,
      "outputs": [
        {
          "output_type": "stream",
          "name": "stdout",
          "text": [
            "Previous shape: torch.Size([224, 224, 3])\n",
            "New shape: torch.Size([3, 224, 224])\n"
          ]
        }
      ]
    },
    {
      "cell_type": "code",
      "source": [
        "x_original[0,0,0] = 45678\n",
        "x_original"
      ],
      "metadata": {
        "colab": {
          "base_uri": "https://localhost:8080/"
        },
        "id": "KosyMqGvP7Qu",
        "outputId": "7ed6ba4b-718b-4a16-8b14-78de698e0547"
      },
      "execution_count": 39,
      "outputs": [
        {
          "output_type": "execute_result",
          "data": {
            "text/plain": [
              "tensor([[[4.5678e+04, 5.1418e-01, 7.0264e-01],\n",
              "         [9.1804e-01, 9.1502e-01, 7.9626e-01],\n",
              "         [7.6316e-01, 1.2175e-02, 1.5790e-01],\n",
              "         ...,\n",
              "         [3.5428e-01, 3.2948e-01, 2.8707e-02],\n",
              "         [3.9927e-01, 1.1634e-01, 8.7371e-01],\n",
              "         [1.2206e-01, 5.7159e-02, 5.0855e-03]],\n",
              "\n",
              "        [[2.3392e-01, 7.3399e-01, 8.8848e-01],\n",
              "         [8.3412e-01, 7.4356e-01, 5.0789e-01],\n",
              "         [3.6696e-01, 3.2554e-01, 8.2152e-01],\n",
              "         ...,\n",
              "         [2.9762e-01, 7.1982e-01, 1.1735e-02],\n",
              "         [6.7527e-01, 8.4265e-01, 8.8955e-01],\n",
              "         [9.9779e-02, 9.0078e-01, 7.3417e-01]],\n",
              "\n",
              "        [[3.4071e-01, 5.9663e-01, 4.9438e-02],\n",
              "         [4.2763e-01, 4.7625e-01, 1.2662e-01],\n",
              "         [6.7248e-01, 8.6836e-01, 7.7669e-01],\n",
              "         ...,\n",
              "         [3.7638e-01, 8.6197e-01, 4.7562e-01],\n",
              "         [6.6089e-02, 1.2822e-01, 3.9216e-01],\n",
              "         [2.9982e-01, 5.4275e-01, 4.3034e-01]],\n",
              "\n",
              "        ...,\n",
              "\n",
              "        [[5.7330e-01, 7.3702e-01, 7.9591e-01],\n",
              "         [5.5531e-01, 1.7044e-01, 3.2588e-01],\n",
              "         [4.4523e-01, 6.9370e-01, 3.7535e-01],\n",
              "         ...,\n",
              "         [1.2906e-01, 4.6406e-01, 9.9135e-01],\n",
              "         [1.1421e-01, 7.6364e-01, 1.0949e-01],\n",
              "         [2.6862e-01, 1.8368e-01, 5.1306e-01]],\n",
              "\n",
              "        [[6.4807e-01, 1.0946e-01, 4.8176e-01],\n",
              "         [2.9630e-01, 6.2953e-01, 5.2161e-01],\n",
              "         [3.4119e-01, 6.0395e-01, 5.9980e-01],\n",
              "         ...,\n",
              "         [8.6527e-01, 2.4836e-01, 7.7293e-02],\n",
              "         [3.2692e-01, 7.2067e-01, 3.7040e-01],\n",
              "         [2.0742e-01, 4.2949e-01, 1.0119e-01]],\n",
              "\n",
              "        [[9.5895e-01, 4.4592e-01, 3.3549e-01],\n",
              "         [4.1127e-01, 2.6895e-02, 4.8650e-01],\n",
              "         [4.9514e-01, 3.9674e-01, 6.4263e-01],\n",
              "         ...,\n",
              "         [1.4953e-01, 8.6537e-01, 8.5239e-02],\n",
              "         [7.0996e-01, 4.9460e-01, 1.9735e-01],\n",
              "         [3.1103e-01, 7.2510e-01, 4.3108e-01]]])"
            ]
          },
          "metadata": {},
          "execution_count": 39
        }
      ]
    },
    {
      "cell_type": "markdown",
      "source": [
        "# indexing (selecting data from tensors)\n",
        "  \n",
        "\n",
        "Indexing with Pytorch similar to indexing with NumPy"
      ],
      "metadata": {
        "id": "GhmF3dgtRUwt"
      }
    },
    {
      "cell_type": "code",
      "source": [
        "#Create a Tensor\n",
        "x = torch.arange(1,10).reshape(1,3,3)\n",
        "x"
      ],
      "metadata": {
        "colab": {
          "base_uri": "https://localhost:8080/"
        },
        "id": "GHfnK0wMRclO",
        "outputId": "cc557ba3-5d6e-4d7a-8cac-2bc25b44a47c"
      },
      "execution_count": 40,
      "outputs": [
        {
          "output_type": "execute_result",
          "data": {
            "text/plain": [
              "tensor([[[1, 2, 3],\n",
              "         [4, 5, 6],\n",
              "         [7, 8, 9]]])"
            ]
          },
          "metadata": {},
          "execution_count": 40
        }
      ]
    },
    {
      "cell_type": "code",
      "source": [
        "# Let's index on our new tensor\n",
        "x[0]"
      ],
      "metadata": {
        "colab": {
          "base_uri": "https://localhost:8080/"
        },
        "id": "8OSxLbfhRrwN",
        "outputId": "a137e196-2cc1-414f-d071-528eb03354df"
      },
      "execution_count": 41,
      "outputs": [
        {
          "output_type": "execute_result",
          "data": {
            "text/plain": [
              "tensor([[1, 2, 3],\n",
              "        [4, 5, 6],\n",
              "        [7, 8, 9]])"
            ]
          },
          "metadata": {},
          "execution_count": 41
        }
      ]
    },
    {
      "cell_type": "code",
      "source": [
        "# Let's index on the middle bracket (dim=1)\n",
        "x[0][0]"
      ],
      "metadata": {
        "colab": {
          "base_uri": "https://localhost:8080/"
        },
        "id": "iMA2VIw1R84M",
        "outputId": "de92b20d-f5b1-4e16-c4c9-c7257429c116"
      },
      "execution_count": 42,
      "outputs": [
        {
          "output_type": "execute_result",
          "data": {
            "text/plain": [
              "tensor([1, 2, 3])"
            ]
          },
          "metadata": {},
          "execution_count": 42
        }
      ]
    },
    {
      "cell_type": "code",
      "source": [
        "#Let's index on the most inner bracket (last dimension)\n",
        "x[0][0][0]"
      ],
      "metadata": {
        "colab": {
          "base_uri": "https://localhost:8080/"
        },
        "id": "Mh8L2ucZSCcM",
        "outputId": "d2d31168-43d9-4d88-cabd-508191fdd1fd"
      },
      "execution_count": 43,
      "outputs": [
        {
          "output_type": "execute_result",
          "data": {
            "text/plain": [
              "tensor(1)"
            ]
          },
          "metadata": {},
          "execution_count": 43
        }
      ]
    },
    {
      "cell_type": "code",
      "source": [
        "x[0][2][2]"
      ],
      "metadata": {
        "colab": {
          "base_uri": "https://localhost:8080/"
        },
        "id": "G_bX7g3gSOP8",
        "outputId": "c2bfb655-81ac-418b-8fe5-df10b9761659"
      },
      "execution_count": 44,
      "outputs": [
        {
          "output_type": "execute_result",
          "data": {
            "text/plain": [
              "tensor(9)"
            ]
          },
          "metadata": {},
          "execution_count": 44
        }
      ]
    },
    {
      "cell_type": "code",
      "source": [
        "# You can also use \":\" to select \"all\" of a target dimension\n",
        "x[:,0]"
      ],
      "metadata": {
        "colab": {
          "base_uri": "https://localhost:8080/"
        },
        "id": "YyiiHXESShPU",
        "outputId": "c1c82262-cac7-4346-bfef-3e94198af40a"
      },
      "execution_count": 45,
      "outputs": [
        {
          "output_type": "execute_result",
          "data": {
            "text/plain": [
              "tensor([[1, 2, 3]])"
            ]
          },
          "metadata": {},
          "execution_count": 45
        }
      ]
    },
    {
      "cell_type": "code",
      "source": [
        " # Get all values of 0th and 1st dimensions but only index 1 of 2nd dimension\n",
        " x[:,:,1]"
      ],
      "metadata": {
        "colab": {
          "base_uri": "https://localhost:8080/"
        },
        "id": "dZff227GSprM",
        "outputId": "c86b201a-f04a-495f-a8ca-30d2bbc84bcc"
      },
      "execution_count": 46,
      "outputs": [
        {
          "output_type": "execute_result",
          "data": {
            "text/plain": [
              "tensor([[2, 5, 8]])"
            ]
          },
          "metadata": {},
          "execution_count": 46
        }
      ]
    },
    {
      "cell_type": "code",
      "source": [
        "# Get all values of the 0 dimension but only the 1 index value of 1st and 2nd dimension\n",
        "x[:,1,1]"
      ],
      "metadata": {
        "colab": {
          "base_uri": "https://localhost:8080/"
        },
        "id": "4kebm82eS95L",
        "outputId": "d6dd63ad-150f-4c80-cbf3-7831126c673f"
      },
      "execution_count": 47,
      "outputs": [
        {
          "output_type": "execute_result",
          "data": {
            "text/plain": [
              "tensor([5])"
            ]
          },
          "metadata": {},
          "execution_count": 47
        }
      ]
    },
    {
      "cell_type": "code",
      "source": [],
      "metadata": {
        "id": "n6Io5SLlTIaz"
      },
      "execution_count": 47,
      "outputs": []
    },
    {
      "cell_type": "markdown",
      "source": [
        "# PyTorch Tensors & NumPy"
      ],
      "metadata": {
        "id": "suM6xgbtVSaK"
      }
    },
    {
      "cell_type": "code",
      "source": [
        "# Numpy array to Tensor\n",
        "import torch\n",
        "import numpy as np\n",
        "\n",
        "array = np.arange(1.0, 8.0)\n",
        "tensor = torch.from_numpy(array)\n",
        "array, tensor"
      ],
      "metadata": {
        "colab": {
          "base_uri": "https://localhost:8080/"
        },
        "id": "WM7se2UAVWJS",
        "outputId": "323c33e0-19b0-424a-ab04-fa742e271d63"
      },
      "execution_count": 48,
      "outputs": [
        {
          "output_type": "execute_result",
          "data": {
            "text/plain": [
              "(array([1., 2., 3., 4., 5., 6., 7.]),\n",
              " tensor([1., 2., 3., 4., 5., 6., 7.], dtype=torch.float64))"
            ]
          },
          "metadata": {},
          "execution_count": 48
        }
      ]
    },
    {
      "cell_type": "code",
      "source": [
        "array.dtype #Numpy default dtype"
      ],
      "metadata": {
        "colab": {
          "base_uri": "https://localhost:8080/"
        },
        "id": "Ke0wkRuqVsKp",
        "outputId": "d139aaef-3a8e-4946-896f-af9dc4f268fb"
      },
      "execution_count": 49,
      "outputs": [
        {
          "output_type": "execute_result",
          "data": {
            "text/plain": [
              "dtype('float64')"
            ]
          },
          "metadata": {},
          "execution_count": 49
        }
      ]
    },
    {
      "cell_type": "code",
      "source": [
        "torch.arange(1.0,8.0).dtype # Torch default dtype"
      ],
      "metadata": {
        "colab": {
          "base_uri": "https://localhost:8080/"
        },
        "id": "-lD6rPMIV0ua",
        "outputId": "b5d0d98d-aa34-4b27-ed6a-e5a092a53069"
      },
      "execution_count": 50,
      "outputs": [
        {
          "output_type": "execute_result",
          "data": {
            "text/plain": [
              "torch.float32"
            ]
          },
          "metadata": {},
          "execution_count": 50
        }
      ]
    },
    {
      "cell_type": "code",
      "source": [
        " # Change the value of array, what will this to do 'Tensor'?\n",
        " array= array+1\n",
        " array, tensor"
      ],
      "metadata": {
        "colab": {
          "base_uri": "https://localhost:8080/"
        },
        "id": "3JdV6eKRV6Nq",
        "outputId": "e00fa614-688f-4b1d-a5de-38128fa612f8"
      },
      "execution_count": 51,
      "outputs": [
        {
          "output_type": "execute_result",
          "data": {
            "text/plain": [
              "(array([2., 3., 4., 5., 6., 7., 8.]),\n",
              " tensor([1., 2., 3., 4., 5., 6., 7.], dtype=torch.float64))"
            ]
          },
          "metadata": {},
          "execution_count": 51
        }
      ]
    },
    {
      "cell_type": "code",
      "source": [
        "tensor = torch.ones(7)\n",
        "numpy_tensor = tensor.numpy()\n",
        "tensor, numpy_tensor"
      ],
      "metadata": {
        "colab": {
          "base_uri": "https://localhost:8080/"
        },
        "id": "SZrFDpJZWiOF",
        "outputId": "d5ec5a9f-b7aa-42b5-c764-cfe4ea39a659"
      },
      "execution_count": 52,
      "outputs": [
        {
          "output_type": "execute_result",
          "data": {
            "text/plain": [
              "(tensor([1., 1., 1., 1., 1., 1., 1.]),\n",
              " array([1., 1., 1., 1., 1., 1., 1.], dtype=float32))"
            ]
          },
          "metadata": {},
          "execution_count": 52
        }
      ]
    },
    {
      "cell_type": "markdown",
      "source": [
        "## Reproducbility (trying to take random out of random)\n",
        "\n",
        "In short how a neural network learns:\n",
        "\n",
        "'start with random numbers -> tensor operations -> update random numbers to try and make them better representations of the data -> again -> again -> again ....\n",
        "\n",
        "To reduce the randomness in neural networks and Pytorch comes the concept of a **random seed **\n",
        "\n",
        "Essentially what the random seed does is \"Flavour\" the randomness."
      ],
      "metadata": {
        "id": "uOEy2yzuXrym"
      }
    },
    {
      "cell_type": "code",
      "source": [
        "# Create two random tensors \n",
        "random_tensor_A = torch.rand(3,4)\n",
        "random_tensor_B = torch.rand(3,4)\n",
        "\n",
        "print(random_tensor_A)\n",
        "print(random_tensor_B)\n",
        "print(random_tensor_A == random_tensor_B)"
      ],
      "metadata": {
        "colab": {
          "base_uri": "https://localhost:8080/"
        },
        "id": "QdVNd0cBW3i5",
        "outputId": "fbc6fc7b-9967-42b0-da38-870d32d923d1"
      },
      "execution_count": 53,
      "outputs": [
        {
          "output_type": "stream",
          "name": "stdout",
          "text": [
            "tensor([[0.1890, 0.7034, 0.9098, 0.2609],\n",
            "        [0.9898, 0.1195, 0.5154, 0.8026],\n",
            "        [0.2648, 0.2189, 0.2064, 0.6117]])\n",
            "tensor([[0.6456, 0.9273, 0.6297, 0.3748],\n",
            "        [0.3825, 0.3431, 0.4167, 0.5542],\n",
            "        [0.1080, 0.5284, 0.5390, 0.0256]])\n",
            "tensor([[False, False, False, False],\n",
            "        [False, False, False, False],\n",
            "        [False, False, False, False]])\n"
          ]
        }
      ]
    },
    {
      "cell_type": "code",
      "source": [
        "# Set the random seed\n",
        "RANDOM_SEED = 45\n",
        "torch.manual_seed(RANDOM_SEED)\n",
        "random_tensor_C = torch.rand(3,4)\n",
        "\n",
        "torch.manual_seed(RANDOM_SEED)\n",
        "random_tensor_D = torch.rand(3,4)\n",
        "\n",
        "print(random_tensor_C)\n",
        "print(random_tensor_D)\n",
        "print(random_tensor_C == random_tensor_D)"
      ],
      "metadata": {
        "colab": {
          "base_uri": "https://localhost:8080/"
        },
        "id": "_x25ySeZZHLg",
        "outputId": "c8a39b0e-372e-40c2-c79c-742bfcf68b59"
      },
      "execution_count": 54,
      "outputs": [
        {
          "output_type": "stream",
          "name": "stdout",
          "text": [
            "tensor([[0.1869, 0.9613, 0.6834, 0.8988],\n",
            "        [0.0505, 0.5555, 0.7861, 0.0566],\n",
            "        [0.7842, 0.1480, 0.0388, 0.1037]])\n",
            "tensor([[0.1869, 0.9613, 0.6834, 0.8988],\n",
            "        [0.0505, 0.5555, 0.7861, 0.0566],\n",
            "        [0.7842, 0.1480, 0.0388, 0.1037]])\n",
            "tensor([[True, True, True, True],\n",
            "        [True, True, True, True],\n",
            "        [True, True, True, True]])\n"
          ]
        }
      ]
    },
    {
      "cell_type": "markdown",
      "source": [
        "#Running tensors and PyTorch objects on the GPUs (and making faster computations)\n",
        "GPUs = faster computation on numbers, thanks to CUDA + NVIDIA hardware + PyTorch working behind scenes \n",
        "\n",
        "## 1. Getting a GPU\n",
        "\n",
        "   \n",
        "\n",
        "1.   Easiest - Use Google Colab for a free GPU\n",
        "2.   Use your own GPU\n",
        "3.   Use cloud computing - GCP,AWS, Azure these services allow you to rent computers on the cloud and access them\n",
        "\n"
      ],
      "metadata": {
        "id": "N5rgUkVec9c2"
      }
    },
    {
      "cell_type": "markdown",
      "source": [
        "# PyTorch Workflow"
      ],
      "metadata": {
        "id": "9r0_L4pzoAV4"
      }
    },
    {
      "cell_type": "markdown",
      "source": [
        "1.Data (Preparing and loading)\n",
        "  Data can be almost anything... in machine learning.\n",
        "  * Excel\n",
        "  * Images\n",
        "  * Videos\n",
        "  * DNA \n",
        "  * Test\n",
        "Machine learning is a game of two parts:\n",
        "1. Get data into a numerical resresentation.\n",
        "2. Build a model to learn patterns in that numerical representation\n",
        "\n"
      ],
      "metadata": {
        "id": "vLp1XKeKoGQE"
      }
    },
    {
      "cell_type": "markdown",
      "source": [
        "#Linear Regression"
      ],
      "metadata": {
        "id": "VGHXabNhsdpO"
      }
    },
    {
      "cell_type": "code",
      "source": [
        "# Create known parameters\n",
        "weight = 0.7\n",
        "bias = 0.3\n",
        "\n",
        "# Create \n",
        "start = 0\n",
        "end = 1\n",
        "step = 0.02\n",
        "x = torch.arange(start,end,step).unsqueeze(dim=1)\n",
        "y = weight * x + bias\n",
        "x[:10], y[:10]"
      ],
      "metadata": {
        "colab": {
          "base_uri": "https://localhost:8080/"
        },
        "id": "tcZj9hBIdfpu",
        "outputId": "f76ead78-3c22-4d61-b07a-48ad6ad3c2da"
      },
      "execution_count": 55,
      "outputs": [
        {
          "output_type": "execute_result",
          "data": {
            "text/plain": [
              "(tensor([[0.0000],\n",
              "         [0.0200],\n",
              "         [0.0400],\n",
              "         [0.0600],\n",
              "         [0.0800],\n",
              "         [0.1000],\n",
              "         [0.1200],\n",
              "         [0.1400],\n",
              "         [0.1600],\n",
              "         [0.1800]]),\n",
              " tensor([[0.3000],\n",
              "         [0.3140],\n",
              "         [0.3280],\n",
              "         [0.3420],\n",
              "         [0.3560],\n",
              "         [0.3700],\n",
              "         [0.3840],\n",
              "         [0.3980],\n",
              "         [0.4120],\n",
              "         [0.4260]]))"
            ]
          },
          "metadata": {},
          "execution_count": 55
        }
      ]
    },
    {
      "cell_type": "markdown",
      "source": [
        "# Splitting Data into training and test sets ** "
      ],
      "metadata": {
        "id": "pNVxaS8DsUea"
      }
    },
    {
      "cell_type": "code",
      "source": [
        "# Create a train/test split\n",
        "\n",
        "train_split = int(0.8 * len(x))\n",
        "x_train, y_train = x[:train_split], y[:train_split]\n",
        "x_test, y_test = x[train_split:], y[train_split:]\n",
        "\n",
        "len(x_train), len(y_train), len(x_test), len(y_test)"
      ],
      "metadata": {
        "colab": {
          "base_uri": "https://localhost:8080/"
        },
        "id": "lon_qHVMsF1H",
        "outputId": "9680952a-af8f-4024-a7d7-4745e7200b45"
      },
      "execution_count": 56,
      "outputs": [
        {
          "output_type": "execute_result",
          "data": {
            "text/plain": [
              "(40, 40, 10, 10)"
            ]
          },
          "metadata": {},
          "execution_count": 56
        }
      ]
    },
    {
      "cell_type": "markdown",
      "source": [
        "How we might better visualize our data?\n",
        "\n",
        "This is where the data explorer's motto comes in!\n",
        "\n",
        "\"Visualize, visualize, visualize\""
      ],
      "metadata": {
        "id": "5VKTvznDtrCb"
      }
    },
    {
      "cell_type": "code",
      "source": [
        "def plot_predictions(train_data = x_train,\n",
        "                     train_labels=y_train,\n",
        "                     test_data=x_test,\n",
        "                     test_labels=y_test,\n",
        "                     predictions= None):\n",
        "  \"Plots training data, test data and compares predictions.\"\n",
        "\n",
        "  plt.figure(figsize=(10,7))\n",
        "\n",
        "  # Plot training data in blue\n",
        "  plt.scatter(train_data, train_labels, c=\"b\", s=4, label = \"Training Data\")\n",
        "\n",
        "  # Plot test data in green\n",
        "  plt.scatter(test_data,test_labels,c=\"g\",s=4,label=\"Testing Data\")\n",
        "\n",
        "  if predictions is not None:\n",
        "    plt.scatter(test_data, predictions)\n",
        "\n",
        "  # Show the Legend\n",
        "  plt.legend(prop={\"size\": 14})\n",
        "\n",
        "plot_predictions()"
      ],
      "metadata": {
        "colab": {
          "base_uri": "https://localhost:8080/",
          "height": 599
        },
        "id": "siyXgH6GsnlI",
        "outputId": "8db69061-c4ed-4eb7-83b9-912ecf02c6bb"
      },
      "execution_count": 57,
      "outputs": [
        {
          "output_type": "display_data",
          "data": {
            "text/plain": [
              "<Figure size 1000x700 with 1 Axes>"
            ],
            "image/png": "[encoded data removed]"
          },
          "metadata": {}
        }
      ]
    },
    {
      "cell_type": "markdown",
      "source": [
        "# Build a Model\n",
        "My first PyTorch Model!\n",
        "\n",
        "This is very exciting!!\n",
        "\n",
        "I will use OOP Python\n",
        " torch.nn.module : Base Class for all neural network modules.\n",
        " source: https://realpython.com/python3-object-oriented-programming/\n",
        "\n",
        " PyTorch uses two main algorithms:\n",
        "  1. Gradient Descent\n",
        "  2. Backpropagation\n",
        "  source: https://www.youtube.com/watch?v=IHZwWFHWa-w&list=PLZHQObOWTQDNU6R1_67000Dx_ZCJB-3pi&index=2"
      ],
      "metadata": {
        "id": "simHQ7zMwUDF"
      }
    },
    {
      "cell_type": "code",
      "source": [
        "# Create linear regression model class\n",
        "from torch import nn\n",
        "\n",
        "class LinearRegressionModel(nn.Module): # <- Almost inherits everyting in Pytorch nn.Module\n",
        "  def __init__(self):\n",
        "    super().__init__()\n",
        "    #initialize model parameters\n",
        "    self.weights = nn.Parameter(torch.randn(1,\n",
        "                                            requires_grad=True,\n",
        "                                            dtype=torch.float))\n",
        "    self.bias = nn.Parameter(torch.randn(1,\n",
        "                                          requires_grad=True,\n",
        "                                          dtype=torch.float))\n",
        "    # if you are inherit from nn.module you should override *forward* method\n",
        "    # Forward method to define the computation in the model\n",
        "  def forward(self,x:torch.Tensor) -> torch.Tensor: # <- 'x' is the input data\n",
        "      return self.weights * x + self.bias # this is the linear regression formula"
      ],
      "metadata": {
        "id": "lBhPOZrDte-G"
      },
      "execution_count": 58,
      "outputs": []
    },
    {
      "cell_type": "markdown",
      "source": [
        "### Pytorch Model Building Essentials\n",
        "\n",
        "* torch.nn - contains all of the buildings for computational graphs\n",
        "* torch.nn.Parameter - what parameters should our model try and learn,\n",
        "*torch.nn.Module - The base class for all neural network modules, do not forget override method\n",
        "* torch.optim - this where the optimizers in PyTorch live, they will help gradient descent\n",
        "* def forward() - All nn.Module subclasses require you to override forward(), this method defines what happens in the forward computation"
      ],
      "metadata": {
        "id": "cO_i41STUOGn"
      }
    },
    {
      "cell_type": "code",
      "source": [
        "# Create a random seed\n",
        "torch.manual_seed(42)\n",
        "\n",
        "# Create an instance of the model (this is a subclass of nn.modele)\n",
        "model_0= LinearRegressionModel()\n",
        "\n",
        "# Check out the parameters\n",
        "list(model_0.parameters())"
      ],
      "metadata": {
        "colab": {
          "base_uri": "https://localhost:8080/"
        },
        "id": "pj6E6Nz6cVbd",
        "outputId": "aa0a339a-f786-4d38-c523-0511bff3c2ee"
      },
      "execution_count": 59,
      "outputs": [
        {
          "output_type": "execute_result",
          "data": {
            "text/plain": [
              "[Parameter containing:\n",
              " tensor([0.3367], requires_grad=True),\n",
              " Parameter containing:\n",
              " tensor([0.1288], requires_grad=True)]"
            ]
          },
          "metadata": {},
          "execution_count": 59
        }
      ]
    },
    {
      "cell_type": "code",
      "source": [
        "with torch.inference_mode():\n",
        "  y_preds = model_0(x_test)\n",
        "\n",
        "y_preds"
      ],
      "metadata": {
        "colab": {
          "base_uri": "https://localhost:8080/"
        },
        "id": "LHsoKQxCOTmx",
        "outputId": "684b33b0-8360-4713-f0f7-c498593fbb22"
      },
      "execution_count": 60,
      "outputs": [
        {
          "output_type": "execute_result",
          "data": {
            "text/plain": [
              "tensor([[0.3982],\n",
              "        [0.4049],\n",
              "        [0.4116],\n",
              "        [0.4184],\n",
              "        [0.4251],\n",
              "        [0.4318],\n",
              "        [0.4386],\n",
              "        [0.4453],\n",
              "        [0.4520],\n",
              "        [0.4588]])"
            ]
          },
          "metadata": {},
          "execution_count": 60
        }
      ]
    },
    {
      "cell_type": "code",
      "source": [
        "plot_predictions(predictions = y_preds)"
      ],
      "metadata": {
        "colab": {
          "base_uri": "https://localhost:8080/",
          "height": 599
        },
        "id": "0yhS4lFodgan",
        "outputId": "7bb20333-7556-4539-af66-4183957b5064"
      },
      "execution_count": 61,
      "outputs": [
        {
          "output_type": "display_data",
          "data": {
            "text/plain": [
              "<Figure size 1000x700 with 1 Axes>"
            ],
            "image/png": "[encoded data removed]"
          },
          "metadata": {}
        }
      ]
    },
    {
      "cell_type": "markdown",
      "source": [
        "## 3. Train Your Model\n",
        "One way to measure how poor or how wrong your models predictions are is to use a loss function.\n",
        "* Note: Loss function may also be called \"cost function\" or criterion in different areas. Four our case, we're going yo reder to it as a loss function.\n",
        "\n",
        "**Loss Function:** A function to measure how wrong your model's predictions are to the ideal outputs, lower is better.\n",
        "\n",
        "**Optimizer:** Takes into account the loss of a model and adjusts the model's parameters (e.g. weight & bias) to improve the loss function.https://pytorch.org/docs/stable/optim.html#module-torch.optim\n",
        "\n",
        "And specifically we need:\n",
        "\n",
        "*training loop \n",
        "\n",
        "*testing loop"
      ],
      "metadata": {
        "id": "xMqddnVQwicB"
      }
    },
    {
      "cell_type": "code",
      "source": [
        "list (model_0.parameters())"
      ],
      "metadata": {
        "colab": {
          "base_uri": "https://localhost:8080/"
        },
        "id": "-XAyyZqEeAMf",
        "outputId": "84939b29-ae61-4d85-8331-fb7eff460810"
      },
      "execution_count": 62,
      "outputs": [
        {
          "output_type": "execute_result",
          "data": {
            "text/plain": [
              "[Parameter containing:\n",
              " tensor([0.3367], requires_grad=True),\n",
              " Parameter containing:\n",
              " tensor([0.1288], requires_grad=True)]"
            ]
          },
          "metadata": {},
          "execution_count": 62
        }
      ]
    },
    {
      "cell_type": "code",
      "source": [
        "model_0.state_dict()"
      ],
      "metadata": {
        "colab": {
          "base_uri": "https://localhost:8080/"
        },
        "id": "CAoyyULKzF8b",
        "outputId": "fd545a87-4704-4a0b-8613-3dab806bccfc"
      },
      "execution_count": 63,
      "outputs": [
        {
          "output_type": "execute_result",
          "data": {
            "text/plain": [
              "OrderedDict([('weights', tensor([0.3367])), ('bias', tensor([0.1288]))])"
            ]
          },
          "metadata": {},
          "execution_count": 63
        }
      ]
    },
    {
      "cell_type": "code",
      "source": [
        "# Setup a loss function\n",
        "loss_fn = nn.L1Loss()\n",
        "\n",
        "# Setup an optimizer(Stochastic gradient descent)\n",
        "optimizer = torch.optim.SGD(params=model_0.parameters(),\n",
        "                            lr=0.01) #lr learning rate"
      ],
      "metadata": {
        "id": "xisdOZ2lzKm6"
      },
      "execution_count": 64,
      "outputs": []
    },
    {
      "cell_type": "markdown",
      "source": [
        "### Building a training loop (and a testing loop) in Pytorch\n",
        "\n",
        "A couple of things we need in a training loop:\n",
        "0. Loop through the data\n",
        "1. forward pass (this involbes data moving through our model's 'forward()' functions) to make predictions on data (it takes input and make calculations during hiddes layer then reaches output) -also called forward propagation\n",
        "2. Calculate the loss (compara forward pass predictions to ground truth labels)\n",
        "3. Optimizer zero grad \n",
        "4. Loss backward - move backwards through the network to calculate gradients of each of the parameteres of our with respect to the loss (**backpropagation**)\n",
        "5. Optimizer step - use the optimizer to adjust our model's parameters to try and improve the loss (**gradient descent**)\n"
      ],
      "metadata": {
        "id": "PElq2DHEdb8o"
      }
    },
    {
      "cell_type": "code",
      "source": [
        "with torch.no_grad():\n",
        "  list(model_0.parameters()) "
      ],
      "metadata": {
        "id": "_A6O3eOego5G"
      },
      "execution_count": 65,
      "outputs": []
    },
    {
      "cell_type": "code",
      "source": [
        "list(model_0.parameters()) "
      ],
      "metadata": {
        "colab": {
          "base_uri": "https://localhost:8080/"
        },
        "id": "DhyQSh-8hA_o",
        "outputId": "4bcb34d8-1edf-4dfa-816a-01d45909dca8"
      },
      "execution_count": 66,
      "outputs": [
        {
          "output_type": "execute_result",
          "data": {
            "text/plain": [
              "[Parameter containing:\n",
              " tensor([0.3367], requires_grad=True),\n",
              " Parameter containing:\n",
              " tensor([0.1288], requires_grad=True)]"
            ]
          },
          "metadata": {},
          "execution_count": 66
        }
      ]
    },
    {
      "cell_type": "code",
      "source": [
        "torch.manual_seed(42)\n",
        "\n",
        "# An epochs is one loop through the data ...\n",
        "epochs = 100 \n",
        "\n",
        "# 0. Loop through the data\n",
        "for epoch in range(epochs):\n",
        "  # Set the model to training mode\n",
        "  model_0.train() # train mode in PyTorch set all parameters that require gradients to require parameters\n",
        "  \n",
        "  # 1. Forward pass\n",
        "  y_pred = model_0(x_train)\n",
        "\n",
        "  # 2. Calculate the loss\n",
        "  loss = loss_fn(y_pred, y_train)\n",
        " \n",
        "\n",
        "  # 3. Optimizer zero grad \n",
        "  optimizer.zero_grad()\n",
        "\n",
        "  # 4. Perform backpropagation on the loss with respect to the parameters of the model\n",
        "  loss.backward()\n",
        "\n",
        "  # 5. Step the optimizer (perform gradient descent)\n",
        "  optimizer.step()  \n",
        "  \n",
        "  ## TESTING\n",
        "  model_0.eval() # turns off gradient tracking\n",
        "\n",
        "  with torch.inference_mode():\n",
        "    test_pred = model_0(x_test)\n",
        "\n",
        "    test_loss = loss_fn(test_pred, y_test)\n",
        "\n",
        "    if(epoch % 10 == 0):\n",
        "      print(f\"Epoch: {epoch} | Loss: {loss} | Test loss: {test_loss}\")\n",
        "\n",
        "      print(model_0.state_dict())"
      ],
      "metadata": {
        "colab": {
          "base_uri": "https://localhost:8080/"
        },
        "id": "WBbzwNYwYeTg",
        "outputId": "591a9832-d9b0-4e25-b1e0-e00f6544de6d"
      },
      "execution_count": 67,
      "outputs": [
        {
          "output_type": "stream",
          "name": "stdout",
          "text": [
            "Epoch: 0 | Loss: 0.31288138031959534 | Test loss: 0.48106518387794495\n",
            "OrderedDict([('weights', tensor([0.3406])), ('bias', tensor([0.1388]))])\n",
            "Epoch: 10 | Loss: 0.1976713240146637 | Test loss: 0.3463551998138428\n",
            "OrderedDict([('weights', tensor([0.3796])), ('bias', tensor([0.2388]))])\n",
            "Epoch: 20 | Loss: 0.08908725529909134 | Test loss: 0.21729660034179688\n",
            "OrderedDict([('weights', tensor([0.4184])), ('bias', tensor([0.3333]))])\n",
            "Epoch: 30 | Loss: 0.053148526698350906 | Test loss: 0.14464017748832703\n",
            "OrderedDict([('weights', tensor([0.4512])), ('bias', tensor([0.3768]))])\n",
            "Epoch: 40 | Loss: 0.04543796554207802 | Test loss: 0.11360953003168106\n",
            "OrderedDict([('weights', tensor([0.4748])), ('bias', tensor([0.3868]))])\n",
            "Epoch: 50 | Loss: 0.04167863354086876 | Test loss: 0.09919948130846024\n",
            "OrderedDict([('weights', tensor([0.4938])), ('bias', tensor([0.3843]))])\n",
            "Epoch: 60 | Loss: 0.03818932920694351 | Test loss: 0.08886633068323135\n",
            "OrderedDict([('weights', tensor([0.5116])), ('bias', tensor([0.3788]))])\n",
            "Epoch: 70 | Loss: 0.03476089984178543 | Test loss: 0.0805937647819519\n",
            "OrderedDict([('weights', tensor([0.5288])), ('bias', tensor([0.3718]))])\n",
            "Epoch: 80 | Loss: 0.03132382780313492 | Test loss: 0.07232122868299484\n",
            "OrderedDict([('weights', tensor([0.5459])), ('bias', tensor([0.3648]))])\n",
            "Epoch: 90 | Loss: 0.02788739837706089 | Test loss: 0.06473556160926819\n",
            "OrderedDict([('weights', tensor([0.5629])), ('bias', tensor([0.3573]))])\n"
          ]
        }
      ]
    },
    {
      "cell_type": "code",
      "source": [
        "model_0.state_dict()"
      ],
      "metadata": {
        "colab": {
          "base_uri": "https://localhost:8080/"
        },
        "id": "nKgNufV2YgTh",
        "outputId": "7aca0aeb-66e9-45a3-fc95-7ce8eeb699bc"
      },
      "execution_count": 68,
      "outputs": [
        {
          "output_type": "execute_result",
          "data": {
            "text/plain": [
              "OrderedDict([('weights', tensor([0.5784])), ('bias', tensor([0.3513]))])"
            ]
          },
          "metadata": {},
          "execution_count": 68
        }
      ]
    },
    {
      "cell_type": "code",
      "source": [
        "model_0.state_dict()"
      ],
      "metadata": {
        "colab": {
          "base_uri": "https://localhost:8080/"
        },
        "id": "RgYVSRg5qxH1",
        "outputId": "5afb6296-3603-4cc4-a811-5ee94641df6e"
      },
      "execution_count": 69,
      "outputs": [
        {
          "output_type": "execute_result",
          "data": {
            "text/plain": [
              "OrderedDict([('weights', tensor([0.5784])), ('bias', tensor([0.3513]))])"
            ]
          },
          "metadata": {},
          "execution_count": 69
        }
      ]
    },
    {
      "cell_type": "code",
      "source": [
        "with torch.inference_mode():\n",
        "  y_preds_new = model_0(x_test)\n",
        "\n",
        "plot_predictions(predictions = y_preds_new)"
      ],
      "metadata": {
        "colab": {
          "base_uri": "https://localhost:8080/",
          "height": 599
        },
        "id": "ANE9sSWCrcmE",
        "outputId": "8ff6c6e3-c8da-41a3-f740-932b0702981d"
      },
      "execution_count": 70,
      "outputs": [
        {
          "output_type": "display_data",
          "data": {
            "text/plain": [
              "<Figure size 1000x700 with 1 Axes>"
            ],
            "image/png": "[encoded data removed]"
          },
          "metadata": {}
        }
      ]
    },
    {
      "cell_type": "markdown",
      "source": [
        "# Saving a Pytorch model #\n",
        "\n",
        "1. torch.save() \n",
        "2. torch.load()\n",
        "3. torch.nn.Module.load_state_dict()"
      ],
      "metadata": {
        "id": "4qtgzeCyiFmP"
      }
    },
    {
      "cell_type": "code",
      "source": [
        "# Saving our Pytorch Model\n",
        "from pathlib import Path\n",
        "\n",
        "# 1. Create models directory\n",
        "Model_Path = Path(\"models\")\n",
        "Model_Path.mkdir(parents= True, exist_ok=True)\n",
        "\n",
        "# 2. Create model save path\n",
        "Model_Name = \"01_pytorch_workflow_0.pth\"\n",
        "Model_Save_Path = Model_Path / Model_Name\n",
        "Model_Save_Path\n",
        "\n",
        "# 3. Save the model State Dict\n",
        "print(f\"Saving model to: {Model_Save_Path}\")\n",
        "torch.save(obj=model_0.state_dict(),\n",
        "           f= Model_Save_Path)\n",
        " "
      ],
      "metadata": {
        "id": "U8z2c_bqtGqr",
        "colab": {
          "base_uri": "https://localhost:8080/"
        },
        "outputId": "da4f60fe-b9c2-4f25-8c31-9c1b7cf8818b"
      },
      "execution_count": 71,
      "outputs": [
        {
          "output_type": "stream",
          "name": "stdout",
          "text": [
            "Saving model to: models/01_pytorch_workflow_0.pth\n"
          ]
        }
      ]
    },
    {
      "cell_type": "markdown",
      "source": [
        "# Loading a PyTorch Model # \n",
        "\n"
      ],
      "metadata": {
        "id": "ZTh2c6sUlxo4"
      }
    },
    {
      "cell_type": "code",
      "source": [
        "  # To load in a saved state_dict we have to instantiate a new instance of out model class\n",
        "  loaded_model_0 = LinearRegressionModel()\n",
        "\n",
        "  # Load the saved state_dict of model_\n",
        "  loaded_model_0.load_state_dict(torch.load(f=Model_Save_Path)) "
      ],
      "metadata": {
        "colab": {
          "base_uri": "https://localhost:8080/"
        },
        "id": "ikuc1WTBjSNc",
        "outputId": "a90cbb2e-362c-413b-9f0d-a4e43f0d29b8"
      },
      "execution_count": 72,
      "outputs": [
        {
          "output_type": "execute_result",
          "data": {
            "text/plain": [
              "<All keys matched successfully>"
            ]
          },
          "metadata": {},
          "execution_count": 72
        }
      ]
    },
    {
      "cell_type": "code",
      "source": [
        "loaded_model_0.state_dict()"
      ],
      "metadata": {
        "colab": {
          "base_uri": "https://localhost:8080/"
        },
        "id": "4WaMwFbBmcdw",
        "outputId": "900c17f4-30a9-458a-c026-3c2f3f9f8b49"
      },
      "execution_count": 73,
      "outputs": [
        {
          "output_type": "execute_result",
          "data": {
            "text/plain": [
              "OrderedDict([('weights', tensor([0.5784])), ('bias', tensor([0.3513]))])"
            ]
          },
          "metadata": {},
          "execution_count": 73
        }
      ]
    },
    {
      "cell_type": "code",
      "source": [
        "# Make some predictions with our loaded model\n",
        "loaded_model_0.eval()\n",
        "\n",
        "with torch.inference_mode():\n",
        "  loaded_model_preds = loaded_model_0(x_test)\n",
        "\n",
        "loaded_model_preds\n"
      ],
      "metadata": {
        "colab": {
          "base_uri": "https://localhost:8080/"
        },
        "id": "GPdocvOxnLG1",
        "outputId": "a66da330-456b-41bc-cb5f-242b9279e9d9"
      },
      "execution_count": 74,
      "outputs": [
        {
          "output_type": "execute_result",
          "data": {
            "text/plain": [
              "tensor([[0.8141],\n",
              "        [0.8256],\n",
              "        [0.8372],\n",
              "        [0.8488],\n",
              "        [0.8603],\n",
              "        [0.8719],\n",
              "        [0.8835],\n",
              "        [0.8950],\n",
              "        [0.9066],\n",
              "        [0.9182]])"
            ]
          },
          "metadata": {},
          "execution_count": 74
        }
      ]
    },
    {
      "cell_type": "markdown",
      "source": [
        "# 6. Putting it all together #\n"
      ],
      "metadata": {
        "id": "bG-tHr5HptPK"
      }
    },
    {
      "cell_type": "code",
      "source": [
        "import torch\n",
        "from torch import nn\n",
        "import matplotlib.pyplot as plt\n"
      ],
      "metadata": {
        "id": "V2yvoHRupqkw"
      },
      "execution_count": 75,
      "outputs": []
    },
    {
      "cell_type": "markdown",
      "source": [
        "Create device-agnostic code.\n",
        "\n",
        "This means if we've got access to a GPU, our code will use it (for potentially faster computing)\n",
        "\n",
        "If no GPU is available, the code will default to using CPU.\n"
      ],
      "metadata": {
        "id": "lzYyuzTGqTSj"
      }
    },
    {
      "cell_type": "code",
      "source": [
        "# Setup device agnostic code \n",
        "device = \"cuda\" if torch.cuda.is_available() else \"cpu\"\n",
        "print(f\"Using device: {device}\")"
      ],
      "metadata": {
        "colab": {
          "base_uri": "https://localhost:8080/"
        },
        "id": "Nc_EHyn3qSKO",
        "outputId": "aab235cf-f6fe-4eb6-dc83-491de728389b"
      },
      "execution_count": 76,
      "outputs": [
        {
          "output_type": "stream",
          "name": "stdout",
          "text": [
            "Using device: cpu\n"
          ]
        }
      ]
    },
    {
      "cell_type": "markdown",
      "source": [
        "# 6.1 Data Preparation #"
      ],
      "metadata": {
        "id": "_LzWD0f0rg-q"
      }
    },
    {
      "cell_type": "code",
      "source": [
        "# Create some data using the linear regression formula of y =  weight * x + bias\n",
        "weight = 0.7\n",
        "bias = 0.3\n",
        "\n",
        "# Creare range values\n",
        "start= 0 \n",
        "end=1\n",
        "step = 0.02\n",
        "\n",
        "# Create X and Y (features and labels )\n",
        "x = torch.arange(start, end, step).unsqueeze(dim=1)\n",
        "y = weight * x + bias\n",
        "x[:10], y[:10]\n"
      ],
      "metadata": {
        "colab": {
          "base_uri": "https://localhost:8080/"
        },
        "id": "SU67VXs_q5hC",
        "outputId": "66d0fd14-c7ed-48a3-e398-d71d54d2a75c"
      },
      "execution_count": 77,
      "outputs": [
        {
          "output_type": "execute_result",
          "data": {
            "text/plain": [
              "(tensor([[0.0000],\n",
              "         [0.0200],\n",
              "         [0.0400],\n",
              "         [0.0600],\n",
              "         [0.0800],\n",
              "         [0.1000],\n",
              "         [0.1200],\n",
              "         [0.1400],\n",
              "         [0.1600],\n",
              "         [0.1800]]),\n",
              " tensor([[0.3000],\n",
              "         [0.3140],\n",
              "         [0.3280],\n",
              "         [0.3420],\n",
              "         [0.3560],\n",
              "         [0.3700],\n",
              "         [0.3840],\n",
              "         [0.3980],\n",
              "         [0.4120],\n",
              "         [0.4260]]))"
            ]
          },
          "metadata": {},
          "execution_count": 77
        }
      ]
    },
    {
      "cell_type": "code",
      "source": [
        "# split data\n",
        "train_split = int(0.8 * len(x))\n",
        "x_train, y_train = x[:train_split], y[:train_split]\n",
        "x_test, y_test = x[train_split:], y[train_split:]\n",
        "len(x_train), len(x_test), len(y_train), len(y_test)"
      ],
      "metadata": {
        "colab": {
          "base_uri": "https://localhost:8080/"
        },
        "id": "d2ach531sbLA",
        "outputId": "c32fa27a-74bc-404a-f999-74eef24e865b"
      },
      "execution_count": 78,
      "outputs": [
        {
          "output_type": "execute_result",
          "data": {
            "text/plain": [
              "(40, 10, 40, 10)"
            ]
          },
          "metadata": {},
          "execution_count": 78
        }
      ]
    },
    {
      "cell_type": "code",
      "source": [
        "# Plot the data\n",
        "# Note: If you don't have the plot_predictions() function loaded, this will error\n",
        "plot_predictions(x_train, y_train, x_test, y_test)\n"
      ],
      "metadata": {
        "colab": {
          "base_uri": "https://localhost:8080/",
          "height": 599
        },
        "id": "9REvNtk5tVKE",
        "outputId": "370d473a-d6f7-4354-b2cb-e4bfecad80ab"
      },
      "execution_count": 79,
      "outputs": [
        {
          "output_type": "display_data",
          "data": {
            "text/plain": [
              "<Figure size 1000x700 with 1 Axes>"
            ],
            "image/png": "[encoded data removed]"
          },
          "metadata": {}
        }
      ]
    },
    {
      "cell_type": "markdown",
      "source": [
        "# 6.2 Building a PyTorch Linear Model #"
      ],
      "metadata": {
        "id": "n8ANSrE3u7UZ"
      }
    },
    {
      "cell_type": "code",
      "source": [
        "class LinearRegressionModelV2(nn.Module):\n",
        "  def __init__(self):\n",
        "    super().__init__()\n",
        "    self.linear_layer = nn.Linear(in_features=1, \n",
        "                                  out_features=1)\n",
        "# we have one x train value and y label value this is why we put 1 above \n",
        "#also called: Lİnear Transform, probing layer, fully connected layer, dense layer\n",
        "\n",
        "  def forward(self, x: torch.Tensor) -> torch.Tensor:\n",
        "    return self.linear_layer(x)\n",
        "  #Set the manuel seed \n",
        "torch.manual_seed(42)\n",
        "model_1 = LinearRegressionModelV2()\n",
        "model_1, model_1.state_dict()"
      ],
      "metadata": {
        "colab": {
          "base_uri": "https://localhost:8080/"
        },
        "id": "_8XGuwlau6c3",
        "outputId": "f130fc4b-b59e-4541-dfc7-7e56ee570103"
      },
      "execution_count": 80,
      "outputs": [
        {
          "output_type": "execute_result",
          "data": {
            "text/plain": [
              "(LinearRegressionModelV2(\n",
              "   (linear_layer): Linear(in_features=1, out_features=1, bias=True)\n",
              " ),\n",
              " OrderedDict([('linear_layer.weight', tensor([[0.7645]])),\n",
              "              ('linear_layer.bias', tensor([0.8300]))]))"
            ]
          },
          "metadata": {},
          "execution_count": 80
        }
      ]
    },
    {
      "cell_type": "markdown",
      "source": [
        "# 6.3 Training #\n",
        "For training we need:\n",
        "\n",
        "* Loss Function\n",
        "* Optimizer\n",
        "* Training Loop\n",
        "* Testing Loop\n",
        " "
      ],
      "metadata": {
        "id": "pItBaRST6lfZ"
      }
    },
    {
      "cell_type": "code",
      "source": [
        "# Setup Loss function\n",
        "loss_fn = nn.L1Loss() # same as MAE\n",
        "\n",
        "# Setup the Optimizer\n",
        "optimizer = torch.optim.SGD(params = model_1.parameters(),lr = 0.01)\n"
      ],
      "metadata": {
        "id": "MuZXPeMVtztA"
      },
      "execution_count": 89,
      "outputs": []
    },
    {
      "cell_type": "code",
      "source": [
        "torch.manual_seed(42)\n",
        "\n",
        "epoch = 200\n",
        "\n",
        "for epoch in range(epochs):\n",
        "  model_1.train()\n",
        "\n",
        "  # 1. Forward pass\n",
        "  y_pred = model_1(x_train)\n",
        "\n",
        "  # 2. Calculate the loss \n",
        "  loss = loss_fn(y_pred, y_train)\n",
        "\n",
        "  # 3. Oprimizer zero grad\n",
        "  optimizer.zero_grad()\n",
        "\n",
        "  # 4. Baackpropagation\n",
        "  loss.backward()\n",
        "\n",
        "  # 5. Optimizer step\n",
        "  optimizer.step()\n",
        "\n",
        "  ### Testing\n",
        "  model_1.eval()\n",
        "  with torch.inference_mode():\n",
        "    test_pred = model_1(x_test)\n",
        "\n",
        "    test_loss = loss_fn(test_pred, y_test)\n",
        "\n",
        "  # Print out what's happening\n",
        "\n",
        "  if epoch % 10 == 0:\n",
        "    print(f\"Epoch: {epoch} | Loss: {loss} | Test loss: {test_loss}\")"
      ],
      "metadata": {
        "colab": {
          "base_uri": "https://localhost:8080/"
        },
        "id": "4FSoDOtT7NDE",
        "outputId": "6af05300-ba58-4f27-ac21-a9153d55e9a5"
      },
      "execution_count": 90,
      "outputs": [
        {
          "output_type": "stream",
          "name": "stdout",
          "text": [
            "Epoch: 0 | Loss: 0.31323912739753723 | Test loss: 0.2910890281200409\n",
            "Epoch: 10 | Loss: 0.19802922010421753 | Test loss: 0.15637914836406708\n",
            "Epoch: 20 | Loss: 0.082819364964962 | Test loss: 0.021669339388608932\n",
            "Epoch: 30 | Loss: 0.023356225341558456 | Test loss: 0.048831045627593994\n",
            "Epoch: 40 | Loss: 0.019609440118074417 | Test loss: 0.04538457468152046\n",
            "Epoch: 50 | Loss: 0.01618100143969059 | Test loss: 0.0371120348572731\n",
            "Epoch: 60 | Loss: 0.012742474675178528 | Test loss: 0.028839487582445145\n",
            "Epoch: 70 | Loss: 0.00930751208215952 | Test loss: 0.02125381864607334\n",
            "Epoch: 80 | Loss: 0.005877653602510691 | Test loss: 0.012981277890503407\n",
            "Epoch: 90 | Loss: 0.002438851399347186 | Test loss: 0.004708737134933472\n"
          ]
        }
      ]
    },
    {
      "cell_type": "code",
      "source": [
        "model_1.state_dict()"
      ],
      "metadata": {
        "colab": {
          "base_uri": "https://localhost:8080/"
        },
        "id": "cSsWJwkz8lVC",
        "outputId": "8902c175-7854-4c9b-b838-ea87e0f27f01"
      },
      "execution_count": 91,
      "outputs": [
        {
          "output_type": "execute_result",
          "data": {
            "text/plain": [
              "OrderedDict([('linear_layer.weight', tensor([[0.6929]])),\n",
              "             ('linear_layer.bias', tensor([0.2925]))])"
            ]
          },
          "metadata": {},
          "execution_count": 91
        }
      ]
    },
    {
      "cell_type": "code",
      "source": [
        "model_1.eval()\n",
        "\n",
        "with torch.inference_mode():\n",
        "  y_preds = model_1(x_test)\n",
        "y_preds"
      ],
      "metadata": {
        "colab": {
          "base_uri": "https://localhost:8080/"
        },
        "id": "l8O2DjbH8wtX",
        "outputId": "fc0b4c2c-667e-4528-9b5a-aa3b496108c6"
      },
      "execution_count": 94,
      "outputs": [
        {
          "output_type": "execute_result",
          "data": {
            "text/plain": [
              "tensor([[0.8468],\n",
              "        [0.8607],\n",
              "        [0.8746],\n",
              "        [0.8884],\n",
              "        [0.9023],\n",
              "        [0.9161],\n",
              "        [0.9300],\n",
              "        [0.9438],\n",
              "        [0.9577],\n",
              "        [0.9716]])"
            ]
          },
          "metadata": {},
          "execution_count": 94
        }
      ]
    },
    {
      "cell_type": "code",
      "source": [
        "plot_predictions(predictions = y_preds)"
      ],
      "metadata": {
        "colab": {
          "base_uri": "https://localhost:8080/",
          "height": 599
        },
        "id": "Aqm1hnll-pr3",
        "outputId": "153cca6d-9828-4791-93bb-4c2175959b93"
      },
      "execution_count": 95,
      "outputs": [
        {
          "output_type": "display_data",
          "data": {
            "text/plain": [
              "<Figure size 1000x700 with 1 Axes>"
            ],
            "image/png": "[encoded data removed]"
          },
          "metadata": {}
        }
      ]
    },
    {
      "cell_type": "code",
      "source": [
        "  "
      ],
      "metadata": {
        "id": "PIRjieJg-8_v"
      },
      "execution_count": null,
      "outputs": []
    }
  ]
}